{
 "cells": [
  {
   "cell_type": "markdown",
   "id": "75448f03",
   "metadata": {},
   "source": [
    "## Блок 2 - Простые расчёты в таблицах"
   ]
  },
  {
   "cell_type": "code",
   "execution_count": 51,
   "id": "96aca4bb",
   "metadata": {},
   "outputs": [
    {
     "data": {
      "text/html": [
       "<div>\n",
       "<style scoped>\n",
       "    .dataframe tbody tr th:only-of-type {\n",
       "        vertical-align: middle;\n",
       "    }\n",
       "\n",
       "    .dataframe tbody tr th {\n",
       "        vertical-align: top;\n",
       "    }\n",
       "\n",
       "    .dataframe thead th {\n",
       "        text-align: right;\n",
       "    }\n",
       "</style>\n",
       "<table border=\"1\" class=\"dataframe\">\n",
       "  <thead>\n",
       "    <tr style=\"text-align: right;\">\n",
       "      <th></th>\n",
       "      <th>keyword</th>\n",
       "      <th>shows</th>\n",
       "    </tr>\n",
       "  </thead>\n",
       "  <tbody>\n",
       "    <tr>\n",
       "      <th>0</th>\n",
       "      <td>вк</td>\n",
       "      <td>64292779</td>\n",
       "    </tr>\n",
       "    <tr>\n",
       "      <th>1</th>\n",
       "      <td>одноклассники</td>\n",
       "      <td>63810309</td>\n",
       "    </tr>\n",
       "    <tr>\n",
       "      <th>2</th>\n",
       "      <td>порно</td>\n",
       "      <td>41747114</td>\n",
       "    </tr>\n",
       "    <tr>\n",
       "      <th>3</th>\n",
       "      <td>ютуб</td>\n",
       "      <td>39995567</td>\n",
       "    </tr>\n",
       "    <tr>\n",
       "      <th>4</th>\n",
       "      <td>вконтакте</td>\n",
       "      <td>21014195</td>\n",
       "    </tr>\n",
       "  </tbody>\n",
       "</table>\n",
       "</div>"
      ],
      "text/plain": [
       "         keyword     shows\n",
       "0             вк  64292779\n",
       "1  одноклассники  63810309\n",
       "2          порно  41747114\n",
       "3           ютуб  39995567\n",
       "4      вконтакте  21014195"
      ]
     },
     "execution_count": 51,
     "metadata": {},
     "output_type": "execute_result"
    }
   ],
   "source": [
    "# Импорт библиотеки pandas, чтение csv-файла и вывод \"головы\" датафрейма\n",
    "import pandas as pd\n",
    "data = pd.read_csv('module_04_keywords.csv')\n",
    "data.head()"
   ]
  },
  {
   "cell_type": "code",
   "execution_count": 52,
   "id": "161c1724",
   "metadata": {
    "scrolled": true
   },
   "outputs": [
    {
     "data": {
      "text/html": [
       "<div>\n",
       "<style scoped>\n",
       "    .dataframe tbody tr th:only-of-type {\n",
       "        vertical-align: middle;\n",
       "    }\n",
       "\n",
       "    .dataframe tbody tr th {\n",
       "        vertical-align: top;\n",
       "    }\n",
       "\n",
       "    .dataframe thead th {\n",
       "        text-align: right;\n",
       "    }\n",
       "</style>\n",
       "<table border=\"1\" class=\"dataframe\">\n",
       "  <thead>\n",
       "    <tr style=\"text-align: right;\">\n",
       "      <th></th>\n",
       "      <th>keyword</th>\n",
       "      <th>shows</th>\n",
       "      <th>daily_shows</th>\n",
       "    </tr>\n",
       "  </thead>\n",
       "  <tbody>\n",
       "    <tr>\n",
       "      <th>0</th>\n",
       "      <td>вк</td>\n",
       "      <td>64292779</td>\n",
       "      <td>5.844798e+06</td>\n",
       "    </tr>\n",
       "    <tr>\n",
       "      <th>1</th>\n",
       "      <td>одноклассники</td>\n",
       "      <td>63810309</td>\n",
       "      <td>5.800937e+06</td>\n",
       "    </tr>\n",
       "    <tr>\n",
       "      <th>2</th>\n",
       "      <td>порно</td>\n",
       "      <td>41747114</td>\n",
       "      <td>3.795192e+06</td>\n",
       "    </tr>\n",
       "    <tr>\n",
       "      <th>3</th>\n",
       "      <td>ютуб</td>\n",
       "      <td>39995567</td>\n",
       "      <td>3.635961e+06</td>\n",
       "    </tr>\n",
       "    <tr>\n",
       "      <th>4</th>\n",
       "      <td>вконтакте</td>\n",
       "      <td>21014195</td>\n",
       "      <td>1.910381e+06</td>\n",
       "    </tr>\n",
       "  </tbody>\n",
       "</table>\n",
       "</div>"
      ],
      "text/plain": [
       "         keyword     shows   daily_shows\n",
       "0             вк  64292779  5.844798e+06\n",
       "1  одноклассники  63810309  5.800937e+06\n",
       "2          порно  41747114  3.795192e+06\n",
       "3           ютуб  39995567  3.635961e+06\n",
       "4      вконтакте  21014195  1.910381e+06"
      ]
     },
     "execution_count": 52,
     "metadata": {},
     "output_type": "execute_result"
    }
   ],
   "source": [
    "# Вводим новый солбец daily_shows содержащий среднее количество запросов за 1 день\n",
    "data['daily_shows'] = data['shows'] / 11\n",
    "data.head()"
   ]
  },
  {
   "cell_type": "code",
   "execution_count": 27,
   "id": "8e96e5df",
   "metadata": {},
   "outputs": [
    {
     "data": {
      "text/html": [
       "<div>\n",
       "<style scoped>\n",
       "    .dataframe tbody tr th:only-of-type {\n",
       "        vertical-align: middle;\n",
       "    }\n",
       "\n",
       "    .dataframe tbody tr th {\n",
       "        vertical-align: top;\n",
       "    }\n",
       "\n",
       "    .dataframe thead th {\n",
       "        text-align: right;\n",
       "    }\n",
       "</style>\n",
       "<table border=\"1\" class=\"dataframe\">\n",
       "  <thead>\n",
       "    <tr style=\"text-align: right;\">\n",
       "      <th></th>\n",
       "      <th>keyword</th>\n",
       "      <th>shows</th>\n",
       "      <th>daily_shows</th>\n",
       "      <th>ratio</th>\n",
       "    </tr>\n",
       "  </thead>\n",
       "  <tbody>\n",
       "    <tr>\n",
       "      <th>0</th>\n",
       "      <td>вк</td>\n",
       "      <td>64292779</td>\n",
       "      <td>5.844798e+06</td>\n",
       "      <td>0.090909</td>\n",
       "    </tr>\n",
       "    <tr>\n",
       "      <th>1</th>\n",
       "      <td>одноклассники</td>\n",
       "      <td>63810309</td>\n",
       "      <td>5.800937e+06</td>\n",
       "      <td>0.090909</td>\n",
       "    </tr>\n",
       "    <tr>\n",
       "      <th>2</th>\n",
       "      <td>порно</td>\n",
       "      <td>41747114</td>\n",
       "      <td>3.795192e+06</td>\n",
       "      <td>0.090909</td>\n",
       "    </tr>\n",
       "    <tr>\n",
       "      <th>3</th>\n",
       "      <td>ютуб</td>\n",
       "      <td>39995567</td>\n",
       "      <td>3.635961e+06</td>\n",
       "      <td>0.090909</td>\n",
       "    </tr>\n",
       "    <tr>\n",
       "      <th>4</th>\n",
       "      <td>вконтакте</td>\n",
       "      <td>21014195</td>\n",
       "      <td>1.910381e+06</td>\n",
       "      <td>0.090909</td>\n",
       "    </tr>\n",
       "  </tbody>\n",
       "</table>\n",
       "</div>"
      ],
      "text/plain": [
       "         keyword     shows   daily_shows     ratio\n",
       "0             вк  64292779  5.844798e+06  0.090909\n",
       "1  одноклассники  63810309  5.800937e+06  0.090909\n",
       "2          порно  41747114  3.795192e+06  0.090909\n",
       "3           ютуб  39995567  3.635961e+06  0.090909\n",
       "4      вконтакте  21014195  1.910381e+06  0.090909"
      ]
     },
     "execution_count": 27,
     "metadata": {},
     "output_type": "execute_result"
    }
   ],
   "source": [
    "# Вводим столбец ratio являющийся отношением daily_shows к shows\n",
    "data['ratio'] = data['daily_shows'] / data['shows']\n",
    "data.head()"
   ]
  },
  {
   "cell_type": "code",
   "execution_count": 28,
   "id": "808f08d4",
   "metadata": {},
   "outputs": [
    {
     "data": {
      "text/plain": [
       "0.091"
      ]
     },
     "execution_count": 28,
     "metadata": {},
     "output_type": "execute_result"
    }
   ],
   "source": [
    "# Считаем среднее значение столбца ratio и округляем его до 3 знаков после запятой\n",
    "round (data['ratio'].mean(), 3)"
   ]
  },
  {
   "cell_type": "code",
   "execution_count": 23,
   "id": "7a48b490",
   "metadata": {},
   "outputs": [
    {
     "data": {
      "text/html": [
       "<div>\n",
       "<style scoped>\n",
       "    .dataframe tbody tr th:only-of-type {\n",
       "        vertical-align: middle;\n",
       "    }\n",
       "\n",
       "    .dataframe tbody tr th {\n",
       "        vertical-align: top;\n",
       "    }\n",
       "\n",
       "    .dataframe thead th {\n",
       "        text-align: right;\n",
       "    }\n",
       "</style>\n",
       "<table border=\"1\" class=\"dataframe\">\n",
       "  <thead>\n",
       "    <tr style=\"text-align: right;\">\n",
       "      <th></th>\n",
       "      <th>keyword</th>\n",
       "      <th>shows</th>\n",
       "      <th>daily_shows</th>\n",
       "    </tr>\n",
       "  </thead>\n",
       "  <tbody>\n",
       "    <tr>\n",
       "      <th>0</th>\n",
       "      <td>вк</td>\n",
       "      <td>64292779</td>\n",
       "      <td>5.844798e+06</td>\n",
       "    </tr>\n",
       "    <tr>\n",
       "      <th>1</th>\n",
       "      <td>одноклассники</td>\n",
       "      <td>63810309</td>\n",
       "      <td>5.800937e+06</td>\n",
       "    </tr>\n",
       "    <tr>\n",
       "      <th>2</th>\n",
       "      <td>порно</td>\n",
       "      <td>41747114</td>\n",
       "      <td>3.795192e+06</td>\n",
       "    </tr>\n",
       "    <tr>\n",
       "      <th>3</th>\n",
       "      <td>ютуб</td>\n",
       "      <td>39995567</td>\n",
       "      <td>3.635961e+06</td>\n",
       "    </tr>\n",
       "    <tr>\n",
       "      <th>4</th>\n",
       "      <td>вконтакте</td>\n",
       "      <td>21014195</td>\n",
       "      <td>1.910381e+06</td>\n",
       "    </tr>\n",
       "  </tbody>\n",
       "</table>\n",
       "</div>"
      ],
      "text/plain": [
       "         keyword     shows   daily_shows\n",
       "0             вк  64292779  5.844798e+06\n",
       "1  одноклассники  63810309  5.800937e+06\n",
       "2          порно  41747114  3.795192e+06\n",
       "3           ютуб  39995567  3.635961e+06\n",
       "4      вконтакте  21014195  1.910381e+06"
      ]
     },
     "execution_count": 23,
     "metadata": {},
     "output_type": "execute_result"
    }
   ],
   "source": [
    "# Уаляем столбец ratio 1ым способом\n",
    "del data['ratio']\n",
    "data.head()"
   ]
  },
  {
   "cell_type": "code",
   "execution_count": 26,
   "id": "207a2347",
   "metadata": {
    "scrolled": true
   },
   "outputs": [
    {
     "data": {
      "text/html": [
       "<div>\n",
       "<style scoped>\n",
       "    .dataframe tbody tr th:only-of-type {\n",
       "        vertical-align: middle;\n",
       "    }\n",
       "\n",
       "    .dataframe tbody tr th {\n",
       "        vertical-align: top;\n",
       "    }\n",
       "\n",
       "    .dataframe thead th {\n",
       "        text-align: right;\n",
       "    }\n",
       "</style>\n",
       "<table border=\"1\" class=\"dataframe\">\n",
       "  <thead>\n",
       "    <tr style=\"text-align: right;\">\n",
       "      <th></th>\n",
       "      <th>keyword</th>\n",
       "      <th>shows</th>\n",
       "      <th>daily_shows</th>\n",
       "    </tr>\n",
       "  </thead>\n",
       "  <tbody>\n",
       "    <tr>\n",
       "      <th>0</th>\n",
       "      <td>вк</td>\n",
       "      <td>64292779</td>\n",
       "      <td>5.844798e+06</td>\n",
       "    </tr>\n",
       "    <tr>\n",
       "      <th>1</th>\n",
       "      <td>одноклассники</td>\n",
       "      <td>63810309</td>\n",
       "      <td>5.800937e+06</td>\n",
       "    </tr>\n",
       "    <tr>\n",
       "      <th>2</th>\n",
       "      <td>порно</td>\n",
       "      <td>41747114</td>\n",
       "      <td>3.795192e+06</td>\n",
       "    </tr>\n",
       "    <tr>\n",
       "      <th>3</th>\n",
       "      <td>ютуб</td>\n",
       "      <td>39995567</td>\n",
       "      <td>3.635961e+06</td>\n",
       "    </tr>\n",
       "    <tr>\n",
       "      <th>4</th>\n",
       "      <td>вконтакте</td>\n",
       "      <td>21014195</td>\n",
       "      <td>1.910381e+06</td>\n",
       "    </tr>\n",
       "  </tbody>\n",
       "</table>\n",
       "</div>"
      ],
      "text/plain": [
       "         keyword     shows   daily_shows\n",
       "0             вк  64292779  5.844798e+06\n",
       "1  одноклассники  63810309  5.800937e+06\n",
       "2          порно  41747114  3.795192e+06\n",
       "3           ютуб  39995567  3.635961e+06\n",
       "4      вконтакте  21014195  1.910381e+06"
      ]
     },
     "execution_count": 26,
     "metadata": {},
     "output_type": "execute_result"
    }
   ],
   "source": [
    "# Уаляем столбец ratio 2ым способом\n",
    "data.drop(['ratio'], axis=1, inplace=True)\n",
    "data.head()"
   ]
  },
  {
   "cell_type": "markdown",
   "id": "55dbef22",
   "metadata": {},
   "source": [
    "## Блок 03 - Строковые и lambda-функции"
   ]
  },
  {
   "cell_type": "code",
   "execution_count": 53,
   "id": "ff29f34f",
   "metadata": {},
   "outputs": [
    {
     "data": {
      "text/plain": [
       "142"
      ]
     },
     "execution_count": 53,
     "metadata": {},
     "output_type": "execute_result"
    }
   ],
   "source": [
    "# Отфильтровываем датафрейм по ключевому слову \"недвиж\"\n",
    "data = data[data['keyword'].str.contains('недвиж', case=False)].reset_index()\n",
    "len(data)"
   ]
  },
  {
   "cell_type": "code",
   "execution_count": 43,
   "id": "45d6c997",
   "metadata": {},
   "outputs": [
    {
     "data": {
      "text/html": [
       "<div>\n",
       "<style scoped>\n",
       "    .dataframe tbody tr th:only-of-type {\n",
       "        vertical-align: middle;\n",
       "    }\n",
       "\n",
       "    .dataframe tbody tr th {\n",
       "        vertical-align: top;\n",
       "    }\n",
       "\n",
       "    .dataframe thead th {\n",
       "        text-align: right;\n",
       "    }\n",
       "</style>\n",
       "<table border=\"1\" class=\"dataframe\">\n",
       "  <thead>\n",
       "    <tr style=\"text-align: right;\">\n",
       "      <th></th>\n",
       "      <th>index</th>\n",
       "      <th>keyword</th>\n",
       "      <th>shows</th>\n",
       "      <th>daily_shows</th>\n",
       "    </tr>\n",
       "  </thead>\n",
       "  <tbody>\n",
       "    <tr>\n",
       "      <th>0</th>\n",
       "      <td>2806</td>\n",
       "      <td>циан недвижимость москва</td>\n",
       "      <td>78729</td>\n",
       "      <td>7157.181818</td>\n",
       "    </tr>\n",
       "    <tr>\n",
       "      <th>1</th>\n",
       "      <td>3054</td>\n",
       "      <td>авито недвижимость</td>\n",
       "      <td>74037</td>\n",
       "      <td>6730.636364</td>\n",
       "    </tr>\n",
       "    <tr>\n",
       "      <th>2</th>\n",
       "      <td>3066</td>\n",
       "      <td>недвижимость</td>\n",
       "      <td>72984</td>\n",
       "      <td>6634.909091</td>\n",
       "    </tr>\n",
       "    <tr>\n",
       "      <th>3</th>\n",
       "      <td>4273</td>\n",
       "      <td>е1 недвижимость</td>\n",
       "      <td>56277</td>\n",
       "      <td>5116.090909</td>\n",
       "    </tr>\n",
       "    <tr>\n",
       "      <th>4</th>\n",
       "      <td>4912</td>\n",
       "      <td>нгс недвижимость новосибирск</td>\n",
       "      <td>54149</td>\n",
       "      <td>4922.636364</td>\n",
       "    </tr>\n",
       "  </tbody>\n",
       "</table>\n",
       "</div>"
      ],
      "text/plain": [
       "   index                       keyword  shows  daily_shows\n",
       "0   2806      циан недвижимость москва  78729  7157.181818\n",
       "1   3054            авито недвижимость  74037  6730.636364\n",
       "2   3066                  недвижимость  72984  6634.909091\n",
       "3   4273               е1 недвижимость  56277  5116.090909\n",
       "4   4912  нгс недвижимость новосибирск  54149  4922.636364"
      ]
     },
     "execution_count": 43,
     "metadata": {},
     "output_type": "execute_result"
    }
   ],
   "source": [
    "data.head()"
   ]
  },
  {
   "cell_type": "code",
   "execution_count": 55,
   "id": "aa838f29",
   "metadata": {},
   "outputs": [
    {
     "data": {
      "text/html": [
       "<div>\n",
       "<style scoped>\n",
       "    .dataframe tbody tr th:only-of-type {\n",
       "        vertical-align: middle;\n",
       "    }\n",
       "\n",
       "    .dataframe tbody tr th {\n",
       "        vertical-align: top;\n",
       "    }\n",
       "\n",
       "    .dataframe thead th {\n",
       "        text-align: right;\n",
       "    }\n",
       "</style>\n",
       "<table border=\"1\" class=\"dataframe\">\n",
       "  <thead>\n",
       "    <tr style=\"text-align: right;\">\n",
       "      <th></th>\n",
       "      <th>index</th>\n",
       "      <th>keyword</th>\n",
       "      <th>shows</th>\n",
       "      <th>daily_shows</th>\n",
       "      <th>split</th>\n",
       "    </tr>\n",
       "  </thead>\n",
       "  <tbody>\n",
       "    <tr>\n",
       "      <th>0</th>\n",
       "      <td>2806</td>\n",
       "      <td>циан недвижимость москва</td>\n",
       "      <td>78729</td>\n",
       "      <td>7157.181818</td>\n",
       "      <td>[циан, недвижимость, москва]</td>\n",
       "    </tr>\n",
       "    <tr>\n",
       "      <th>1</th>\n",
       "      <td>3054</td>\n",
       "      <td>авито недвижимость</td>\n",
       "      <td>74037</td>\n",
       "      <td>6730.636364</td>\n",
       "      <td>[авито, недвижимость]</td>\n",
       "    </tr>\n",
       "    <tr>\n",
       "      <th>2</th>\n",
       "      <td>3066</td>\n",
       "      <td>недвижимость</td>\n",
       "      <td>72984</td>\n",
       "      <td>6634.909091</td>\n",
       "      <td>[недвижимость]</td>\n",
       "    </tr>\n",
       "    <tr>\n",
       "      <th>3</th>\n",
       "      <td>4273</td>\n",
       "      <td>е1 недвижимость</td>\n",
       "      <td>56277</td>\n",
       "      <td>5116.090909</td>\n",
       "      <td>[е1, недвижимость]</td>\n",
       "    </tr>\n",
       "    <tr>\n",
       "      <th>4</th>\n",
       "      <td>4912</td>\n",
       "      <td>нгс недвижимость новосибирск</td>\n",
       "      <td>54149</td>\n",
       "      <td>4922.636364</td>\n",
       "      <td>[нгс, недвижимость, новосибирск]</td>\n",
       "    </tr>\n",
       "  </tbody>\n",
       "</table>\n",
       "</div>"
      ],
      "text/plain": [
       "   index                       keyword  shows  daily_shows  \\\n",
       "0   2806      циан недвижимость москва  78729  7157.181818   \n",
       "1   3054            авито недвижимость  74037  6730.636364   \n",
       "2   3066                  недвижимость  72984  6634.909091   \n",
       "3   4273               е1 недвижимость  56277  5116.090909   \n",
       "4   4912  нгс недвижимость новосибирск  54149  4922.636364   \n",
       "\n",
       "                              split  \n",
       "0      [циан, недвижимость, москва]  \n",
       "1             [авито, недвижимость]  \n",
       "2                    [недвижимость]  \n",
       "3                [е1, недвижимость]  \n",
       "4  [нгс, недвижимость, новосибирск]  "
      ]
     },
     "execution_count": 55,
     "metadata": {},
     "output_type": "execute_result"
    }
   ],
   "source": [
    "# Вводим новый столбец split для подсчёта количества слов в запросах\n",
    "data['split'] = data['keyword'].str.split(' ')\n",
    "data.head()"
   ]
  },
  {
   "cell_type": "code",
   "execution_count": 45,
   "id": "4da7018a",
   "metadata": {},
   "outputs": [
    {
     "name": "stdout",
     "output_type": "stream",
     "text": [
      "<class 'pandas.core.frame.DataFrame'>\n",
      "RangeIndex: 142 entries, 0 to 141\n",
      "Data columns (total 5 columns):\n",
      " #   Column       Non-Null Count  Dtype  \n",
      "---  ------       --------------  -----  \n",
      " 0   index        142 non-null    int64  \n",
      " 1   keyword      142 non-null    object \n",
      " 2   shows        142 non-null    int64  \n",
      " 3   daily_shows  142 non-null    float64\n",
      " 4   split        142 non-null    object \n",
      "dtypes: float64(1), int64(2), object(2)\n",
      "memory usage: 5.7+ KB\n"
     ]
    }
   ],
   "source": [
    "data.info()"
   ]
  },
  {
   "cell_type": "code",
   "execution_count": 56,
   "id": "3c0b802e",
   "metadata": {},
   "outputs": [
    {
     "data": {
      "text/plain": [
       "list"
      ]
     },
     "execution_count": 56,
     "metadata": {},
     "output_type": "execute_result"
    }
   ],
   "source": [
    "type(data.loc[0]['split'])"
   ]
  },
  {
   "cell_type": "code",
   "execution_count": 57,
   "id": "26c6a4ce",
   "metadata": {},
   "outputs": [
    {
     "data": {
      "text/html": [
       "<div>\n",
       "<style scoped>\n",
       "    .dataframe tbody tr th:only-of-type {\n",
       "        vertical-align: middle;\n",
       "    }\n",
       "\n",
       "    .dataframe tbody tr th {\n",
       "        vertical-align: top;\n",
       "    }\n",
       "\n",
       "    .dataframe thead th {\n",
       "        text-align: right;\n",
       "    }\n",
       "</style>\n",
       "<table border=\"1\" class=\"dataframe\">\n",
       "  <thead>\n",
       "    <tr style=\"text-align: right;\">\n",
       "      <th></th>\n",
       "      <th>index</th>\n",
       "      <th>keyword</th>\n",
       "      <th>shows</th>\n",
       "      <th>daily_shows</th>\n",
       "      <th>split</th>\n",
       "      <th>word_count</th>\n",
       "    </tr>\n",
       "  </thead>\n",
       "  <tbody>\n",
       "    <tr>\n",
       "      <th>0</th>\n",
       "      <td>2806</td>\n",
       "      <td>циан недвижимость москва</td>\n",
       "      <td>78729</td>\n",
       "      <td>7157.181818</td>\n",
       "      <td>[циан, недвижимость, москва]</td>\n",
       "      <td>3</td>\n",
       "    </tr>\n",
       "    <tr>\n",
       "      <th>1</th>\n",
       "      <td>3054</td>\n",
       "      <td>авито недвижимость</td>\n",
       "      <td>74037</td>\n",
       "      <td>6730.636364</td>\n",
       "      <td>[авито, недвижимость]</td>\n",
       "      <td>2</td>\n",
       "    </tr>\n",
       "    <tr>\n",
       "      <th>2</th>\n",
       "      <td>3066</td>\n",
       "      <td>недвижимость</td>\n",
       "      <td>72984</td>\n",
       "      <td>6634.909091</td>\n",
       "      <td>[недвижимость]</td>\n",
       "      <td>1</td>\n",
       "    </tr>\n",
       "    <tr>\n",
       "      <th>3</th>\n",
       "      <td>4273</td>\n",
       "      <td>е1 недвижимость</td>\n",
       "      <td>56277</td>\n",
       "      <td>5116.090909</td>\n",
       "      <td>[е1, недвижимость]</td>\n",
       "      <td>2</td>\n",
       "    </tr>\n",
       "    <tr>\n",
       "      <th>4</th>\n",
       "      <td>4912</td>\n",
       "      <td>нгс недвижимость новосибирск</td>\n",
       "      <td>54149</td>\n",
       "      <td>4922.636364</td>\n",
       "      <td>[нгс, недвижимость, новосибирск]</td>\n",
       "      <td>3</td>\n",
       "    </tr>\n",
       "  </tbody>\n",
       "</table>\n",
       "</div>"
      ],
      "text/plain": [
       "   index                       keyword  shows  daily_shows  \\\n",
       "0   2806      циан недвижимость москва  78729  7157.181818   \n",
       "1   3054            авито недвижимость  74037  6730.636364   \n",
       "2   3066                  недвижимость  72984  6634.909091   \n",
       "3   4273               е1 недвижимость  56277  5116.090909   \n",
       "4   4912  нгс недвижимость новосибирск  54149  4922.636364   \n",
       "\n",
       "                              split  word_count  \n",
       "0      [циан, недвижимость, москва]           3  \n",
       "1             [авито, недвижимость]           2  \n",
       "2                    [недвижимость]           1  \n",
       "3                [е1, недвижимость]           2  \n",
       "4  [нгс, недвижимость, новосибирск]           3  "
      ]
     },
     "execution_count": 57,
     "metadata": {},
     "output_type": "execute_result"
    }
   ],
   "source": [
    "# Подсчитаем с помощью лямбда-функции количество слов в каждом запросе и занесём результат \n",
    "# в столбец word_count\n",
    "data['word_count'] = data['split'].apply(lambda x: len(x))\n",
    "data.head()"
   ]
  },
  {
   "cell_type": "code",
   "execution_count": 58,
   "id": "568e1ba6",
   "metadata": {},
   "outputs": [],
   "source": [
    "data['daily_shows'] = data['daily_shows'].apply(lambda x: int(x))"
   ]
  },
  {
   "cell_type": "code",
   "execution_count": 59,
   "id": "a0cafba0",
   "metadata": {},
   "outputs": [
    {
     "data": {
      "text/html": [
       "<div>\n",
       "<style scoped>\n",
       "    .dataframe tbody tr th:only-of-type {\n",
       "        vertical-align: middle;\n",
       "    }\n",
       "\n",
       "    .dataframe tbody tr th {\n",
       "        vertical-align: top;\n",
       "    }\n",
       "\n",
       "    .dataframe thead th {\n",
       "        text-align: right;\n",
       "    }\n",
       "</style>\n",
       "<table border=\"1\" class=\"dataframe\">\n",
       "  <thead>\n",
       "    <tr style=\"text-align: right;\">\n",
       "      <th></th>\n",
       "      <th>index</th>\n",
       "      <th>keyword</th>\n",
       "      <th>shows</th>\n",
       "      <th>daily_shows</th>\n",
       "      <th>split</th>\n",
       "      <th>word_count</th>\n",
       "    </tr>\n",
       "  </thead>\n",
       "  <tbody>\n",
       "    <tr>\n",
       "      <th>0</th>\n",
       "      <td>2806</td>\n",
       "      <td>циан недвижимость москва</td>\n",
       "      <td>78729</td>\n",
       "      <td>7157</td>\n",
       "      <td>[циан, недвижимость, москва]</td>\n",
       "      <td>3</td>\n",
       "    </tr>\n",
       "    <tr>\n",
       "      <th>1</th>\n",
       "      <td>3054</td>\n",
       "      <td>авито недвижимость</td>\n",
       "      <td>74037</td>\n",
       "      <td>6730</td>\n",
       "      <td>[авито, недвижимость]</td>\n",
       "      <td>2</td>\n",
       "    </tr>\n",
       "    <tr>\n",
       "      <th>2</th>\n",
       "      <td>3066</td>\n",
       "      <td>недвижимость</td>\n",
       "      <td>72984</td>\n",
       "      <td>6634</td>\n",
       "      <td>[недвижимость]</td>\n",
       "      <td>1</td>\n",
       "    </tr>\n",
       "    <tr>\n",
       "      <th>3</th>\n",
       "      <td>4273</td>\n",
       "      <td>е1 недвижимость</td>\n",
       "      <td>56277</td>\n",
       "      <td>5116</td>\n",
       "      <td>[е1, недвижимость]</td>\n",
       "      <td>2</td>\n",
       "    </tr>\n",
       "    <tr>\n",
       "      <th>4</th>\n",
       "      <td>4912</td>\n",
       "      <td>нгс недвижимость новосибирск</td>\n",
       "      <td>54149</td>\n",
       "      <td>4922</td>\n",
       "      <td>[нгс, недвижимость, новосибирск]</td>\n",
       "      <td>3</td>\n",
       "    </tr>\n",
       "  </tbody>\n",
       "</table>\n",
       "</div>"
      ],
      "text/plain": [
       "   index                       keyword  shows  daily_shows  \\\n",
       "0   2806      циан недвижимость москва  78729         7157   \n",
       "1   3054            авито недвижимость  74037         6730   \n",
       "2   3066                  недвижимость  72984         6634   \n",
       "3   4273               е1 недвижимость  56277         5116   \n",
       "4   4912  нгс недвижимость новосибирск  54149         4922   \n",
       "\n",
       "                              split  word_count  \n",
       "0      [циан, недвижимость, москва]           3  \n",
       "1             [авито, недвижимость]           2  \n",
       "2                    [недвижимость]           1  \n",
       "3                [е1, недвижимость]           2  \n",
       "4  [нгс, недвижимость, новосибирск]           3  "
      ]
     },
     "execution_count": 59,
     "metadata": {},
     "output_type": "execute_result"
    }
   ],
   "source": [
    "data.head()"
   ]
  },
  {
   "cell_type": "code",
   "execution_count": 61,
   "id": "fa851a46",
   "metadata": {},
   "outputs": [
    {
     "data": {
      "text/html": [
       "<div>\n",
       "<style scoped>\n",
       "    .dataframe tbody tr th:only-of-type {\n",
       "        vertical-align: middle;\n",
       "    }\n",
       "\n",
       "    .dataframe tbody tr th {\n",
       "        vertical-align: top;\n",
       "    }\n",
       "\n",
       "    .dataframe thead th {\n",
       "        text-align: right;\n",
       "    }\n",
       "</style>\n",
       "<table border=\"1\" class=\"dataframe\">\n",
       "  <thead>\n",
       "    <tr style=\"text-align: right;\">\n",
       "      <th></th>\n",
       "      <th>index</th>\n",
       "      <th>keyword</th>\n",
       "      <th>shows</th>\n",
       "      <th>daily_shows</th>\n",
       "      <th>split</th>\n",
       "      <th>word_count</th>\n",
       "    </tr>\n",
       "  </thead>\n",
       "  <tbody>\n",
       "    <tr>\n",
       "      <th>0</th>\n",
       "      <td>2806</td>\n",
       "      <td>циан недвижимость москва</td>\n",
       "      <td>78729</td>\n",
       "      <td>7157</td>\n",
       "      <td>[циан, недвижимость, москва]</td>\n",
       "      <td>3</td>\n",
       "    </tr>\n",
       "    <tr>\n",
       "      <th>1</th>\n",
       "      <td>3054</td>\n",
       "      <td>авито недвижимость</td>\n",
       "      <td>74037</td>\n",
       "      <td>6730</td>\n",
       "      <td>[авито, недвижимость]</td>\n",
       "      <td>2</td>\n",
       "    </tr>\n",
       "    <tr>\n",
       "      <th>2</th>\n",
       "      <td>3066</td>\n",
       "      <td>недвижимость</td>\n",
       "      <td>72984</td>\n",
       "      <td>6634</td>\n",
       "      <td>[недвижимость]</td>\n",
       "      <td>1</td>\n",
       "    </tr>\n",
       "    <tr>\n",
       "      <th>3</th>\n",
       "      <td>4273</td>\n",
       "      <td>е1 недвижимость</td>\n",
       "      <td>56277</td>\n",
       "      <td>5116</td>\n",
       "      <td>[е1, недвижимость]</td>\n",
       "      <td>2</td>\n",
       "    </tr>\n",
       "    <tr>\n",
       "      <th>4</th>\n",
       "      <td>4912</td>\n",
       "      <td>нгс недвижимость новосибирск</td>\n",
       "      <td>54149</td>\n",
       "      <td>4922</td>\n",
       "      <td>[нгс, недвижимость, новосибирск]</td>\n",
       "      <td>3</td>\n",
       "    </tr>\n",
       "  </tbody>\n",
       "</table>\n",
       "</div>"
      ],
      "text/plain": [
       "   index                       keyword  shows  daily_shows  \\\n",
       "0   2806      циан недвижимость москва  78729         7157   \n",
       "1   3054            авито недвижимость  74037         6730   \n",
       "2   3066                  недвижимость  72984         6634   \n",
       "3   4273               е1 недвижимость  56277         5116   \n",
       "4   4912  нгс недвижимость новосибирск  54149         4922   \n",
       "\n",
       "                              split  word_count  \n",
       "0      [циан, недвижимость, москва]           3  \n",
       "1             [авито, недвижимость]           2  \n",
       "2                    [недвижимость]           1  \n",
       "3                [е1, недвижимость]           2  \n",
       "4  [нгс, недвижимость, новосибирск]           3  "
      ]
     },
     "execution_count": 61,
     "metadata": {},
     "output_type": "execute_result"
    }
   ],
   "source": [
    "data.sort_values(by = 'shows', ascending=False)\n",
    "data.head()"
   ]
  },
  {
   "cell_type": "code",
   "execution_count": 62,
   "id": "775b5d9c",
   "metadata": {},
   "outputs": [
    {
     "data": {
      "text/plain": [
       "3    72\n",
       "2    25\n",
       "4    20\n",
       "5    12\n",
       "6     7\n",
       "8     3\n",
       "1     1\n",
       "7     1\n",
       "9     1\n",
       "Name: word_count, dtype: int64"
      ]
     },
     "execution_count": 62,
     "metadata": {},
     "output_type": "execute_result"
    }
   ],
   "source": [
    "data['word_count'].value_counts()"
   ]
  },
  {
   "cell_type": "markdown",
   "id": "f4f3c9ea",
   "metadata": {},
   "source": [
    "## Блок 04 - Сложные функции для датафреймов и работа с ссылками"
   ]
  },
  {
   "cell_type": "code",
   "execution_count": null,
   "id": "dc151618",
   "metadata": {},
   "outputs": [],
   "source": []
  }
 ],
 "metadata": {
  "kernelspec": {
   "display_name": "Python 3",
   "language": "python",
   "name": "python3"
  },
  "language_info": {
   "codemirror_mode": {
    "name": "ipython",
    "version": 3
   },
   "file_extension": ".py",
   "mimetype": "text/x-python",
   "name": "python",
   "nbconvert_exporter": "python",
   "pygments_lexer": "ipython3",
   "version": "3.8.8"
  }
 },
 "nbformat": 4,
 "nbformat_minor": 5
}
