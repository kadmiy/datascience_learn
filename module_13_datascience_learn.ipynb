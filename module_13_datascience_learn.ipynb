{
 "cells": [
  {
   "cell_type": "markdown",
   "id": "8c65f167",
   "metadata": {},
   "source": [
    "## Блок 02 - Авторизация в сервисах Google"
   ]
  },
  {
   "cell_type": "code",
   "execution_count": 1,
   "id": "376597b7",
   "metadata": {},
   "outputs": [
    {
     "name": "stdout",
     "output_type": "stream",
     "text": [
      "Collecting google-api-python-client\n",
      "  Downloading google_api_python_client-2.36.0-py2.py3-none-any.whl (8.0 MB)\n",
      "Collecting uritemplate<5,>=3.0.1\n",
      "  Downloading uritemplate-4.1.1-py2.py3-none-any.whl (10 kB)\n",
      "Collecting google-auth-httplib2>=0.1.0\n",
      "  Downloading google_auth_httplib2-0.1.0-py2.py3-none-any.whl (9.3 kB)\n",
      "Collecting httplib2<1dev,>=0.15.0\n",
      "  Downloading httplib2-0.20.2-py3-none-any.whl (96 kB)\n",
      "Collecting google-auth<3.0.0dev,>=1.16.0\n",
      "  Downloading google_auth-2.3.3-py2.py3-none-any.whl (155 kB)\n",
      "Collecting google-api-core<3.0.0dev,>=1.21.0\n",
      "  Downloading google_api_core-2.4.0-py2.py3-none-any.whl (111 kB)\n",
      "Requirement already satisfied: requests<3.0.0dev,>=2.18.0 in c:\\users\\kadmiy\\anaconda3\\lib\\site-packages (from google-api-core<3.0.0dev,>=1.21.0->google-api-python-client) (2.25.1)\n",
      "Collecting protobuf>=3.12.0\n",
      "  Downloading protobuf-3.19.3-cp38-cp38-win_amd64.whl (895 kB)\n",
      "Requirement already satisfied: setuptools>=40.3.0 in c:\\users\\kadmiy\\anaconda3\\lib\\site-packages (from google-api-core<3.0.0dev,>=1.21.0->google-api-python-client) (52.0.0.post20210125)\n",
      "Collecting googleapis-common-protos<2.0dev,>=1.52.0\n",
      "  Downloading googleapis_common_protos-1.54.0-py2.py3-none-any.whl (207 kB)\n",
      "Requirement already satisfied: six>=1.9.0 in c:\\users\\kadmiy\\anaconda3\\lib\\site-packages (from google-auth<3.0.0dev,>=1.16.0->google-api-python-client) (1.15.0)\n",
      "Collecting rsa<5,>=3.1.4\n",
      "  Downloading rsa-4.8-py3-none-any.whl (39 kB)\n",
      "Collecting pyasn1-modules>=0.2.1\n",
      "  Downloading pyasn1_modules-0.2.8-py2.py3-none-any.whl (155 kB)\n",
      "Collecting cachetools<5.0,>=2.0.0\n",
      "  Downloading cachetools-4.2.4-py3-none-any.whl (10 kB)\n",
      "Requirement already satisfied: pyparsing!=3.0.0,!=3.0.1,!=3.0.2,!=3.0.3,<4,>=2.4.2 in c:\\users\\kadmiy\\anaconda3\\lib\\site-packages (from httplib2<1dev,>=0.15.0->google-api-python-client) (2.4.7)\n",
      "Collecting pyasn1<0.5.0,>=0.4.6\n",
      "  Downloading pyasn1-0.4.8-py2.py3-none-any.whl (77 kB)\n",
      "Requirement already satisfied: certifi>=2017.4.17 in c:\\users\\kadmiy\\anaconda3\\lib\\site-packages (from requests<3.0.0dev,>=2.18.0->google-api-core<3.0.0dev,>=1.21.0->google-api-python-client) (2020.12.5)\n",
      "Requirement already satisfied: urllib3<1.27,>=1.21.1 in c:\\users\\kadmiy\\anaconda3\\lib\\site-packages (from requests<3.0.0dev,>=2.18.0->google-api-core<3.0.0dev,>=1.21.0->google-api-python-client) (1.26.4)\n",
      "Requirement already satisfied: chardet<5,>=3.0.2 in c:\\users\\kadmiy\\anaconda3\\lib\\site-packages (from requests<3.0.0dev,>=2.18.0->google-api-core<3.0.0dev,>=1.21.0->google-api-python-client) (4.0.0)\n",
      "Requirement already satisfied: idna<3,>=2.5 in c:\\users\\kadmiy\\anaconda3\\lib\\site-packages (from requests<3.0.0dev,>=2.18.0->google-api-core<3.0.0dev,>=1.21.0->google-api-python-client) (2.10)\n",
      "Installing collected packages: pyasn1, rsa, pyasn1-modules, protobuf, cachetools, httplib2, googleapis-common-protos, google-auth, uritemplate, google-auth-httplib2, google-api-core, google-api-python-client\n",
      "Successfully installed cachetools-4.2.4 google-api-core-2.4.0 google-api-python-client-2.36.0 google-auth-2.3.3 google-auth-httplib2-0.1.0 googleapis-common-protos-1.54.0 httplib2-0.20.2 protobuf-3.19.3 pyasn1-0.4.8 pyasn1-modules-0.2.8 rsa-4.8 uritemplate-4.1.1\n"
     ]
    }
   ],
   "source": [
    "!pip install --upgrade google-api-python-client"
   ]
  },
  {
   "cell_type": "code",
   "execution_count": null,
   "id": "eab15495",
   "metadata": {},
   "outputs": [],
   "source": []
  }
 ],
 "metadata": {
  "kernelspec": {
   "display_name": "Python 3",
   "language": "python",
   "name": "python3"
  },
  "language_info": {
   "codemirror_mode": {
    "name": "ipython",
    "version": 3
   },
   "file_extension": ".py",
   "mimetype": "text/x-python",
   "name": "python",
   "nbconvert_exporter": "python",
   "pygments_lexer": "ipython3",
   "version": "3.8.8"
  }
 },
 "nbformat": 4,
 "nbformat_minor": 5
}
