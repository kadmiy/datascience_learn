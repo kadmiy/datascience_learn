{
 "cells": [
  {
   "cell_type": "code",
   "execution_count": 3,
   "id": "271f392d",
   "metadata": {},
   "outputs": [],
   "source": [
    "trafic_sources = ['прямой заход','яндекс','партнерка','вконтакте','инфопартнер']"
   ]
  },
  {
   "cell_type": "code",
   "execution_count": 4,
   "id": "a370f0ef",
   "metadata": {},
   "outputs": [
    {
     "data": {
      "text/plain": [
       "['прямой заход', 'яндекс', 'партнерка', 'вконтакте', 'инфопартнер']"
      ]
     },
     "execution_count": 4,
     "metadata": {},
     "output_type": "execute_result"
    }
   ],
   "source": [
    "trafic_sources"
   ]
  },
  {
   "cell_type": "code",
   "execution_count": 6,
   "id": "a4a488c1",
   "metadata": {},
   "outputs": [
    {
     "name": "stdout",
     "output_type": "stream",
     "text": [
      "Это бесплатный переход\n",
      "Это платный переход\n",
      "Это платный переход\n",
      "Это платный переход\n",
      "Это бесплатный переход\n"
     ]
    }
   ],
   "source": [
    "for source in trafic_sources:\n",
    "    if source == 'прямой заход' or source == 'инфопартнер':\n",
    "        print('Это бесплатный переход')\n",
    "    else:\n",
    "        print('Это платный переход')"
   ]
  },
  {
   "cell_type": "code",
   "execution_count": 7,
   "id": "4c32f831",
   "metadata": {},
   "outputs": [],
   "source": [
    "list_of_strings = ['Москва','Новосибирск','Воронеж','Краснодар','Иркутск']"
   ]
  },
  {
   "cell_type": "code",
   "execution_count": 8,
   "id": "aef668a0",
   "metadata": {},
   "outputs": [
    {
     "data": {
      "text/plain": [
       "['Москва', 'Новосибирск', 'Воронеж', 'Краснодар', 'Иркутск']"
      ]
     },
     "execution_count": 8,
     "metadata": {},
     "output_type": "execute_result"
    }
   ],
   "source": [
    "list_of_strings"
   ]
  },
  {
   "cell_type": "code",
   "execution_count": 9,
   "id": "2c51c3d3",
   "metadata": {},
   "outputs": [],
   "source": [
    "string_to_find = 'Краснодар'"
   ]
  },
  {
   "cell_type": "code",
   "execution_count": 10,
   "id": "65f43bf6",
   "metadata": {},
   "outputs": [
    {
     "name": "stdout",
     "output_type": "stream",
     "text": [
      "Краснодар содержится в списке городов\n"
     ]
    }
   ],
   "source": [
    "if string_to_find in list_of_strings:\n",
    "    print('{} содержится в списке городов'.format(string_to_find))\n",
    "else:\n",
    "    print('Город {} не из списка'.format(string_to_find))"
   ]
  },
  {
   "cell_type": "code",
   "execution_count": 23,
   "id": "d37ff053",
   "metadata": {},
   "outputs": [],
   "source": [
    "semantic_list = ['одеяло !купить','одеяло !продажа','одеяло цена','одеяло стоимость','одеяло прайс','одеяло дешево','одеяло недорого','одеяло заказать','одеяло на заказ','одеяло с доставкой','одеяло магазин','одеяло интернет магазин','одеяло со скидкой','одеяло акция','одеяло распродажа']"
   ]
  },
  {
   "cell_type": "code",
   "execution_count": 26,
   "id": "5f7b4598",
   "metadata": {},
   "outputs": [],
   "source": [
    "string_to_find_2 = 'одеяло по дешевке'"
   ]
  },
  {
   "cell_type": "code",
   "execution_count": 27,
   "id": "adaa3135",
   "metadata": {
    "scrolled": true
   },
   "outputs": [
    {
     "name": "stdout",
     "output_type": "stream",
     "text": [
      "Фраза одеяло по дешевке не входит в семантическое ядро\n"
     ]
    }
   ],
   "source": [
    "if string_to_find_2 in semantic_list:\n",
    "    print('Фраза {} входит в семантическое ядро'.format(string_to_find_2))\n",
    "else:\n",
    "    print('Фраза {} не входит в семантическое ядро'.format(string_to_find_2))"
   ]
  },
  {
   "cell_type": "code",
   "execution_count": 28,
   "id": "8437ba33",
   "metadata": {},
   "outputs": [],
   "source": [
    "text = 'Название языка питон произошло вовсе не от вида пресмыкающихся. Автор назвал язык в честь популярного британского комедийного телешоу 1970-х Летающий цирк Монти Пайтона'"
   ]
  },
  {
   "cell_type": "code",
   "execution_count": 29,
   "id": "6c2f4a77",
   "metadata": {},
   "outputs": [
    {
     "data": {
      "text/plain": [
       "'Название языка питон произошло вовсе не от вида пресмыкающихся. Автор назвал язык в честь популярного британского комедийного телешоу 1970-х Летающий цирк Монти Пайтона'"
      ]
     },
     "execution_count": 29,
     "metadata": {},
     "output_type": "execute_result"
    }
   ],
   "source": [
    "text"
   ]
  },
  {
   "cell_type": "code",
   "execution_count": 30,
   "id": "72bc43ec",
   "metadata": {},
   "outputs": [],
   "source": [
    "words_to_find = ['питон', 'Монти', 'проверка', 'честь', 'шоу', 'драма']"
   ]
  },
  {
   "cell_type": "code",
   "execution_count": 35,
   "id": "e96f5365",
   "metadata": {},
   "outputs": [],
   "source": [
    "clean_text = text.replace('.','')"
   ]
  },
  {
   "cell_type": "code",
   "execution_count": 38,
   "id": "f96067a5",
   "metadata": {},
   "outputs": [],
   "source": [
    "list_of_strings_python = clean_text.split(' ')"
   ]
  },
  {
   "cell_type": "code",
   "execution_count": 42,
   "id": "fe23efe6",
   "metadata": {},
   "outputs": [
    {
     "name": "stdout",
     "output_type": "stream",
     "text": [
      "Слово \"питон\" присутствует во фразе\n",
      "Слово \"Монти\" присутствует во фразе\n",
      "Слово \"проверка\" отсутствует во фразе\n",
      "Слово \"честь\" присутствует во фразе\n",
      "Слово \"шоу\" отсутствует во фразе\n",
      "Слово \"драма\" отсутствует во фразе\n"
     ]
    }
   ],
   "source": [
    "for word in words_to_find:\n",
    "    if word in list_of_strings_python:\n",
    "        print ('Слово \"{}\" присутствует во фразе'.format(word))\n",
    "    else:\n",
    "        print ('Слово \"{}\" отсутствует во фразе'.format(word))"
   ]
  },
  {
   "cell_type": "code",
   "execution_count": 58,
   "id": "7a233733",
   "metadata": {},
   "outputs": [],
   "source": [
    "queries = 'смотреть сериалы онлайн,новости спорта,афиша кино,курс доллара,сериалы этим летом,курс по питону,сериалы про спорт'"
   ]
  },
  {
   "cell_type": "code",
   "execution_count": 68,
   "id": "460d8d04",
   "metadata": {},
   "outputs": [],
   "source": [
    "result = str('')"
   ]
  },
  {
   "cell_type": "code",
   "execution_count": 60,
   "id": "3977da3c",
   "metadata": {},
   "outputs": [],
   "source": [
    "words = ['сериалы', 'курс']"
   ]
  },
  {
   "cell_type": "code",
   "execution_count": 70,
   "id": "c173e6c8",
   "metadata": {},
   "outputs": [
    {
     "name": "stdout",
     "output_type": "stream",
     "text": [
      "смотреть сериалы онлайн\n",
      "новости спорта\n",
      "афиша кино\n",
      "курс доллара\n",
      "сериалы этим летом\n",
      "курс по питону\n",
      "сериалы про спорт\n"
     ]
    }
   ],
   "source": [
    "for phrase in queries.split(','):\n",
    "    print(phrase)\n",
    "    if words[0] in phrase or words[1] in phrase:\n",
    "        result += '{},'.format(phrase)"
   ]
  },
  {
   "cell_type": "code",
   "execution_count": 72,
   "id": "3a0f20a3",
   "metadata": {},
   "outputs": [],
   "source": [
    "result = result[:-1]"
   ]
  },
  {
   "cell_type": "code",
   "execution_count": 73,
   "id": "9734bb2f",
   "metadata": {},
   "outputs": [
    {
     "data": {
      "text/plain": [
       "'смотреть сериалы онлайн,курс доллара,сериалы этим летом,курс по питону,сериалы про спорт'"
      ]
     },
     "execution_count": 73,
     "metadata": {},
     "output_type": "execute_result"
    }
   ],
   "source": [
    "result"
   ]
  },
  {
   "cell_type": "code",
   "execution_count": null,
   "id": "4dc95f31",
   "metadata": {},
   "outputs": [],
   "source": []
  }
 ],
 "metadata": {
  "kernelspec": {
   "display_name": "Python 3",
   "language": "python",
   "name": "python3"
  },
  "language_info": {
   "codemirror_mode": {
    "name": "ipython",
    "version": 3
   },
   "file_extension": ".py",
   "mimetype": "text/x-python",
   "name": "python",
   "nbconvert_exporter": "python",
   "pygments_lexer": "ipython3",
   "version": "3.8.8"
  }
 },
 "nbformat": 4,
 "nbformat_minor": 5
}
