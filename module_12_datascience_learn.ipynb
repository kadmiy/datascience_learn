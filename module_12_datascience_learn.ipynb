{
 "cells": [
  {
   "cell_type": "markdown",
   "id": "c915c9bf",
   "metadata": {},
   "source": [
    "## Блок 03 - Первые отчеты по API"
   ]
  },
  {
   "cell_type": "code",
   "execution_count": 52,
   "id": "0fa7cb24",
   "metadata": {},
   "outputs": [],
   "source": [
    "import requests\n",
    "import yaml\n",
    "from pprint import pprint \n",
    "\n",
    "f = open('config.yaml', 'r')\n",
    "config = yaml.full_load(f)\n",
    "token = config['yandex_metrika_token']\n",
    "API_URL = 'https://api-metrika.yandex.net/stat/v1/data'\n",
    "startDate = '2022-01-01'\n",
    "endDate = '2022-01-07'\n",
    "counter = '53600281' #'21075004'\n",
    "dimentions = ['ym:s:date']\n",
    "metrics = ['ym:s:visits', 'ym:s:users', 'ym:s:pageviews', 'ym:s:percentNewVisitors']\n",
    "dimentions_string = ','.join(dimentions)\n",
    "metrics_string = ','.join(metrics)\n",
    "params = {\n",
    "    'ids': counter,\n",
    "    'date1': startDate,\n",
    "    'date2': endDate,\n",
    "    'dimentions': dimentions_string,\n",
    "    'metrics': metrics_string,\n",
    "    'oauth_token': token\n",
    "}"
   ]
  },
  {
   "cell_type": "code",
   "execution_count": 6,
   "id": "8b82e0f4",
   "metadata": {},
   "outputs": [
    {
     "name": "stdout",
     "output_type": "stream",
     "text": [
      "ym:s:visits,ym:s:users,ym:s:pagwviews,ym:s:percentNewVisitors\n"
     ]
    }
   ],
   "source": [
    "print(metrics_string)"
   ]
  },
  {
   "cell_type": "code",
   "execution_count": 7,
   "id": "1936d4f6",
   "metadata": {},
   "outputs": [
    {
     "name": "stdout",
     "output_type": "stream",
     "text": [
      "ym:s:date\n"
     ]
    }
   ],
   "source": [
    "print(dimentions_string)"
   ]
  },
  {
   "cell_type": "code",
   "execution_count": 54,
   "id": "2b755015",
   "metadata": {},
   "outputs": [],
   "source": [
    "r = requests.get(API_URL, params= params)\n",
    "data = r.json()"
   ]
  },
  {
   "cell_type": "code",
   "execution_count": 55,
   "id": "a177c243",
   "metadata": {},
   "outputs": [
    {
     "name": "stdout",
     "output_type": "stream",
     "text": [
      "{'contains_sensitive_data': False,\n",
      " 'data': [{'dimensions': [], 'metrics': [5728.0, 5162.0, 7274.0, 92.03796978]}],\n",
      " 'data_lag': 150,\n",
      " 'max': [5728.0, 5162.0, 7274.0, 92.03796978],\n",
      " 'min': [5728.0, 5162.0, 7274.0, 92.03796978],\n",
      " 'query': {'adfox_event_id': '0',\n",
      "           'attr_name': '',\n",
      "           'attribution': 'LastSign',\n",
      "           'auto_group_size': '1',\n",
      "           'currency': 'RUB',\n",
      "           'date1': '2022-01-01',\n",
      "           'date2': '2022-01-07',\n",
      "           'dimensions': [],\n",
      "           'group': 'Week',\n",
      "           'ids': [53600281],\n",
      "           'limit': 100,\n",
      "           'metrics': ['ym:s:visits',\n",
      "                       'ym:s:users',\n",
      "                       'ym:s:pageviews',\n",
      "                       'ym:s:percentNewVisitors'],\n",
      "           'offline_window': '21',\n",
      "           'offset': 1,\n",
      "           'quantile': '50',\n",
      "           'sort': ['-ym:s:visits']},\n",
      " 'sample_share': 1.0,\n",
      " 'sample_size': 5730,\n",
      " 'sample_space': 5730,\n",
      " 'sampled': False,\n",
      " 'total_rows': 1,\n",
      " 'total_rows_rounded': False,\n",
      " 'totals': [5728.0, 5162.0, 7274.0, 92.03796978]}\n"
     ]
    }
   ],
   "source": [
    "pprint(data)"
   ]
  },
  {
   "cell_type": "code",
   "execution_count": 20,
   "id": "893cce51",
   "metadata": {},
   "outputs": [
    {
     "data": {
      "text/plain": [
       "'AQAAAAABLzdZAAedbkj20oEZuUbvgLNxdyG3k_w'"
      ]
     },
     "execution_count": 20,
     "metadata": {},
     "output_type": "execute_result"
    }
   ],
   "source": [
    "token"
   ]
  },
  {
   "cell_type": "code",
   "execution_count": 34,
   "id": "59ae25cd",
   "metadata": {},
   "outputs": [
    {
     "name": "stdout",
     "output_type": "stream",
     "text": [
      "<Response [400]>\n"
     ]
    }
   ],
   "source": [
    "print(requests.get(API_URL, params= params))"
   ]
  },
  {
   "cell_type": "code",
   "execution_count": null,
   "id": "d30a8bab",
   "metadata": {},
   "outputs": [],
   "source": []
  }
 ],
 "metadata": {
  "kernelspec": {
   "display_name": "Python 3",
   "language": "python",
   "name": "python3"
  },
  "language_info": {
   "codemirror_mode": {
    "name": "ipython",
    "version": 3
   },
   "file_extension": ".py",
   "mimetype": "text/x-python",
   "name": "python",
   "nbconvert_exporter": "python",
   "pygments_lexer": "ipython3",
   "version": "3.8.8"
  }
 },
 "nbformat": 4,
 "nbformat_minor": 5
}
