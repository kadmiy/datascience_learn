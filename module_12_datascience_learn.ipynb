{
 "cells": [
  {
   "cell_type": "markdown",
   "id": "c915c9bf",
   "metadata": {},
   "source": [
    "## Блок 03 - Первые отчеты по API"
   ]
  },
  {
   "cell_type": "code",
   "execution_count": 121,
   "id": "0fa7cb24",
   "metadata": {},
   "outputs": [],
   "source": [
    "import requests\n",
    "import yaml\n",
    "from pprint import pprint \n",
    "\n",
    "f = open('config.yaml', 'r')\n",
    "config = yaml.full_load(f)\n",
    "token = config['yandex_metrika_token']\n",
    "API_URL = 'https://api-metrika.yandex.net/stat/v1/data'\n",
    "startDate = '2022-01-01'\n",
    "endDate = '2022-01-07'\n",
    "counter = '53600281' #'21075004'\n",
    "dimensions = ['ym:s:date']\n",
    "metrics = ['ym:s:visits', 'ym:s:users', 'ym:s:pageviews', 'ym:s:percentNewVisitors'] #, 'ym:s:newUsers']\n",
    "dimensions_string = ','.join(dimensions)\n",
    "metrics_string = ','.join(metrics)\n",
    "sort = dimensions\n",
    "params = {\n",
    "    'ids': counter,\n",
    "    'date1': startDate,\n",
    "    'date2': endDate,\n",
    "    'group': 'day',\n",
    "    'sort': sort,\n",
    "    'dimensions': dimensions_string,\n",
    "    'metrics': metrics_string,\n",
    "    'oauth_token': token\n",
    "}"
   ]
  },
  {
   "cell_type": "code",
   "execution_count": 122,
   "id": "2b755015",
   "metadata": {},
   "outputs": [],
   "source": [
    "r = requests.get(API_URL, params= params)\n",
    "data = r.json()"
   ]
  },
  {
   "cell_type": "code",
   "execution_count": 123,
   "id": "a177c243",
   "metadata": {},
   "outputs": [
    {
     "name": "stdout",
     "output_type": "stream",
     "text": [
      "{'contains_sensitive_data': False,\n",
      " 'data': [{'dimensions': [{'name': '2022-01-01'}],\n",
      "           'metrics': [541.0, 502.0, 732.0, 88.24701195]},\n",
      "          {'dimensions': [{'name': '2022-01-02'}],\n",
      "           'metrics': [686.0, 647.0, 864.0, 86.24420402]},\n",
      "          {'dimensions': [{'name': '2022-01-03'}],\n",
      "           'metrics': [827.0, 772.0, 1041.0, 90.67357513]},\n",
      "          {'dimensions': [{'name': '2022-01-04'}],\n",
      "           'metrics': [933.0, 880.0, 1171.0, 88.06818182]},\n",
      "          {'dimensions': [{'name': '2022-01-05'}],\n",
      "           'metrics': [943.0, 895.0, 1200.0, 88.15642458]},\n",
      "          {'dimensions': [{'name': '2022-01-06'}],\n",
      "           'metrics': [998.0, 935.0, 1232.0, 87.70053476]},\n",
      "          {'dimensions': [{'name': '2022-01-07'}],\n",
      "           'metrics': [800.0, 770.0, 1034.0, 86.49350649]}],\n",
      " 'data_lag': 187,\n",
      " 'max': [998.0, 935.0, 1232.0, 90.67357513],\n",
      " 'min': [541.0, 502.0, 732.0, 86.24420402],\n",
      " 'query': {'adfox_event_id': '0',\n",
      "           'attr_name': '',\n",
      "           'attribution': 'LastSign',\n",
      "           'auto_group_size': '1',\n",
      "           'currency': 'RUB',\n",
      "           'date1': '2022-01-01',\n",
      "           'date2': '2022-01-07',\n",
      "           'dimensions': ['ym:s:date'],\n",
      "           'group': 'day',\n",
      "           'ids': [53600281],\n",
      "           'limit': 100,\n",
      "           'metrics': ['ym:s:visits',\n",
      "                       'ym:s:users',\n",
      "                       'ym:s:pageviews',\n",
      "                       'ym:s:percentNewVisitors'],\n",
      "           'offline_window': '21',\n",
      "           'offset': 1,\n",
      "           'quantile': '50',\n",
      "           'sort': ['ym:s:date']},\n",
      " 'sample_share': 1.0,\n",
      " 'sample_size': 5730,\n",
      " 'sample_space': 5730,\n",
      " 'sampled': False,\n",
      " 'total_rows': 7,\n",
      " 'total_rows_rounded': False,\n",
      " 'totals': [5728.0, 5162.0, 7274.0, 92.03796978]}\n"
     ]
    }
   ],
   "source": [
    "pprint(data)"
   ]
  },
  {
   "cell_type": "code",
   "execution_count": 124,
   "id": "893cce51",
   "metadata": {},
   "outputs": [
    {
     "name": "stdout",
     "output_type": "stream",
     "text": [
      "{'dimensions': [{'name': '2022-01-01'}], 'metrics': [541.0, 502.0, 732.0, 88.24701195]}\n",
      "{'dimensions': [{'name': '2022-01-02'}], 'metrics': [686.0, 647.0, 864.0, 86.24420402]}\n",
      "{'dimensions': [{'name': '2022-01-03'}], 'metrics': [827.0, 772.0, 1041.0, 90.67357513]}\n",
      "{'dimensions': [{'name': '2022-01-04'}], 'metrics': [933.0, 880.0, 1171.0, 88.06818182]}\n",
      "{'dimensions': [{'name': '2022-01-05'}], 'metrics': [943.0, 895.0, 1200.0, 88.15642458]}\n",
      "{'dimensions': [{'name': '2022-01-06'}], 'metrics': [998.0, 935.0, 1232.0, 87.70053476]}\n",
      "{'dimensions': [{'name': '2022-01-07'}], 'metrics': [800.0, 770.0, 1034.0, 86.49350649]}\n"
     ]
    }
   ],
   "source": [
    "for line in data['data']:\n",
    "    print(line)"
   ]
  },
  {
   "cell_type": "code",
   "execution_count": 125,
   "id": "59ae25cd",
   "metadata": {},
   "outputs": [
    {
     "name": "stdout",
     "output_type": "stream",
     "text": [
      "2022-01-01 541 502 732 88.25\n",
      "2022-01-02 686 647 864 86.24\n",
      "2022-01-03 827 772 1041 90.67\n",
      "2022-01-04 933 880 1171 88.07\n",
      "2022-01-05 943 895 1200 88.16\n",
      "2022-01-06 998 935 1232 87.7\n",
      "2022-01-07 800 770 1034 86.49\n",
      "4751 5401.0 0.8797\n"
     ]
    }
   ],
   "source": [
    "# Считаем среднее значение доли новых посетителей по дням\n",
    "new_visitors = 0\n",
    "visitors = 0\n",
    "for line in data['data']:\n",
    "    visits_date = line['dimensions'][0]['name']\n",
    "    visits = line['metrics'][0]\n",
    "    users = line['metrics'][1]\n",
    "    pageviews = line['metrics'][2]\n",
    "    new_visitors_in_percents = line['metrics'][3]\n",
    "    print(visits_date, int(visits), int(users), int(pageviews), round(new_visitors_in_percents, 2))\n",
    "    new_visitors += round((users * new_visitors_in_percents) / 100)\n",
    "    visitors += users\n",
    "print(new_visitors, visitors, round(new_visitors / visitors, 4))"
   ]
  },
  {
   "cell_type": "code",
   "execution_count": 126,
   "id": "d30a8bab",
   "metadata": {},
   "outputs": [],
   "source": [
    "# Доля новых пользователей в веб-интерфейсе за всю неделю оказалась заметно выше \n",
    "# (значение 92.04% в строке \"Итого и средние\"), чем за каждый день в отдельности \n",
    "# (за 07.01 - 86,49%, за 06.01 - 87,7% итд). Какой результат верен - итоговый или по дням? \n",
    "# Ведь не может среднее за неделю быть больше, чем значение за каждый день в отдельности.\n",
    "\n",
    "# Ответ\n",
    "# Оба показателя верны, т.к. в недельной статистике \"Ежедневные новые пользователи\" в течении недели будут\n",
    "# учитываться только один раз."
   ]
  },
  {
   "cell_type": "code",
   "execution_count": 131,
   "id": "1dcc5ea9",
   "metadata": {},
   "outputs": [],
   "source": [
    "# Шаблоны отчётов\n",
    "import requests\n",
    "import yaml\n",
    "\n",
    "f = open('config.yaml', 'r')\n",
    "config = yaml.full_load(f)\n",
    "token = config['yandex_metrika_token']\n",
    "API_URL = 'https://api-metrika.yandex.net/stat/v1/data'\n",
    "startDate = '2022-01-01'\n",
    "endDate = '2022-01-07'\n",
    "counter = '53600281' #'21075004'\n",
    "sort = dimensions\n",
    "preset = 'traffic'\n",
    "params = {\n",
    "    'ids': counter,\n",
    "    'date1': startDate,\n",
    "    'date2': endDate,\n",
    "    'group': 'day',\n",
    "    #'sort': sort,\n",
    "    'preset': preset,\n",
    "    'oauth_token': token\n",
    "}\n",
    "r = requests.get(API_URL, params= params)\n",
    "data = r.json()"
   ]
  },
  {
   "cell_type": "code",
   "execution_count": 135,
   "id": "858c9918",
   "metadata": {},
   "outputs": [
    {
     "data": {
      "text/plain": [
       "7"
      ]
     },
     "execution_count": 135,
     "metadata": {},
     "output_type": "execute_result"
    }
   ],
   "source": [
    "# Количество метрик в пресете\n",
    "len(data['query']['metrics'])"
   ]
  },
  {
   "cell_type": "code",
   "execution_count": 164,
   "id": "3e3eec18",
   "metadata": {},
   "outputs": [],
   "source": [
    "# Фильтры в отчётах\n",
    "import requests\n",
    "import yaml\n",
    "\n",
    "f = open('config.yaml', 'r')\n",
    "config = yaml.full_load(f)\n",
    "token = config['yandex_metrika_token']\n",
    "API_URL = 'https://api-metrika.yandex.net/stat/v1/data'\n",
    "startDate = '2022-01-01'\n",
    "endDate = '2022-01-07'\n",
    "counter = '44147844'\n",
    "sort = dimensions\n",
    "preset = 'traffic'\n",
    "\n",
    "filters = \"ym:s:regionCountryName=='Russia'\"\n",
    "\n",
    "params = {\n",
    "    'ids': counter,\n",
    "    'date1': startDate,\n",
    "    'date2': endDate,\n",
    "    #'group': 'day',\n",
    "    #'sort': sort,\n",
    "    'preset': preset,\n",
    "    'filters': filters,\n",
    "    'oauth_token': token\n",
    "}\n",
    "r = requests.get(API_URL, params= params)\n",
    "data = r.json()"
   ]
  },
  {
   "cell_type": "code",
   "execution_count": 165,
   "id": "2fefe214",
   "metadata": {},
   "outputs": [
    {
     "name": "stdout",
     "output_type": "stream",
     "text": [
      "[{'dimensions': [{'from': '2022-01-03',\n",
      "                  'id': '2022-01-03',\n",
      "                  'name': '2022-01-03 - 2022-01-07',\n",
      "                  'to': '2022-01-07'}],\n",
      "  'metrics': [283.0,\n",
      "              261.0,\n",
      "              441.0,\n",
      "              89.65517241,\n",
      "              35.33568905,\n",
      "              1.55830389,\n",
      "              76.54416961]},\n",
      " {'dimensions': [{'from': '2022-01-01',\n",
      "                  'id': '2021-12-27',\n",
      "                  'name': '2022-01-01 - 2022-01-02',\n",
      "                  'to': '2022-01-02'}],\n",
      "  'metrics': [125.0, 124.0, 180.0, 92.74193548, 43.2, 1.44, 51.68]}]\n"
     ]
    }
   ],
   "source": [
    "pprint(data['data'])"
   ]
  },
  {
   "cell_type": "code",
   "execution_count": 170,
   "id": "6658e890",
   "metadata": {},
   "outputs": [
    {
     "name": "stdout",
     "output_type": "stream",
     "text": [
      "283.0\n"
     ]
    }
   ],
   "source": [
    "# visits_from_Russia - число визитов из России\n",
    "visits_from_Russia = data['data'][0]['metrics'][0]\n",
    "print(visits_from_Russia)"
   ]
  },
  {
   "cell_type": "code",
   "execution_count": 172,
   "id": "550673ca",
   "metadata": {},
   "outputs": [],
   "source": [
    "# Получим общее число посещений, для этого отключим фильтр\n",
    "params = {\n",
    "    'ids': counter,\n",
    "    'date1': startDate,\n",
    "    'date2': endDate,\n",
    "    #'group': 'day',\n",
    "    #'sort': sort,\n",
    "    'preset': preset,\n",
    "    #'filters': filters,\n",
    "    'oauth_token': token\n",
    "}\n",
    "r = requests.get(API_URL, params= params)\n",
    "data = r.json()"
   ]
  },
  {
   "cell_type": "code",
   "execution_count": 174,
   "id": "004ef921",
   "metadata": {},
   "outputs": [
    {
     "name": "stdout",
     "output_type": "stream",
     "text": [
      "1745.0\n"
     ]
    }
   ],
   "source": [
    "visits = data['data'][0]['metrics'][0]\n",
    "print(visits)"
   ]
  },
  {
   "cell_type": "code",
   "execution_count": 175,
   "id": "f074c23a",
   "metadata": {},
   "outputs": [
    {
     "name": "stdout",
     "output_type": "stream",
     "text": [
      "0.16\n"
     ]
    }
   ],
   "source": [
    "# Доля визитов из России\n",
    "print(round(visits_from_Russia/visits, 2))"
   ]
  },
  {
   "cell_type": "code",
   "execution_count": null,
   "id": "c136a0b6",
   "metadata": {},
   "outputs": [],
   "source": []
  }
 ],
 "metadata": {
  "kernelspec": {
   "display_name": "Python 3",
   "language": "python",
   "name": "python3"
  },
  "language_info": {
   "codemirror_mode": {
    "name": "ipython",
    "version": 3
   },
   "file_extension": ".py",
   "mimetype": "text/x-python",
   "name": "python",
   "nbconvert_exporter": "python",
   "pygments_lexer": "ipython3",
   "version": "3.8.8"
  }
 },
 "nbformat": 4,
 "nbformat_minor": 5
}
