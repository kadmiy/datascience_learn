{
 "cells": [
  {
   "cell_type": "markdown",
   "id": "d7166c86",
   "metadata": {},
   "source": [
    "# Модуль 09 - Визуализации и отчеты\n",
    "## Блок 02 - Простые визуализации с Matplotlib"
   ]
  },
  {
   "cell_type": "code",
   "execution_count": 1,
   "id": "ba945def",
   "metadata": {},
   "outputs": [],
   "source": [
    "import matplotlib.pyplot as plt\n",
    "import seaborn as sns"
   ]
  },
  {
   "cell_type": "code",
   "execution_count": 2,
   "id": "8dd0c3b2",
   "metadata": {},
   "outputs": [
    {
     "data": {
      "text/html": [
       "<div>\n",
       "<style scoped>\n",
       "    .dataframe tbody tr th:only-of-type {\n",
       "        vertical-align: middle;\n",
       "    }\n",
       "\n",
       "    .dataframe tbody tr th {\n",
       "        vertical-align: top;\n",
       "    }\n",
       "\n",
       "    .dataframe thead th {\n",
       "        text-align: right;\n",
       "    }\n",
       "</style>\n",
       "<table border=\"1\" class=\"dataframe\">\n",
       "  <thead>\n",
       "    <tr style=\"text-align: right;\">\n",
       "      <th>year</th>\n",
       "      <th>1949</th>\n",
       "      <th>1950</th>\n",
       "      <th>1951</th>\n",
       "      <th>1952</th>\n",
       "      <th>1953</th>\n",
       "      <th>1954</th>\n",
       "      <th>1955</th>\n",
       "      <th>1956</th>\n",
       "      <th>1957</th>\n",
       "      <th>1958</th>\n",
       "      <th>1959</th>\n",
       "      <th>1960</th>\n",
       "    </tr>\n",
       "    <tr>\n",
       "      <th>month</th>\n",
       "      <th></th>\n",
       "      <th></th>\n",
       "      <th></th>\n",
       "      <th></th>\n",
       "      <th></th>\n",
       "      <th></th>\n",
       "      <th></th>\n",
       "      <th></th>\n",
       "      <th></th>\n",
       "      <th></th>\n",
       "      <th></th>\n",
       "      <th></th>\n",
       "    </tr>\n",
       "  </thead>\n",
       "  <tbody>\n",
       "    <tr>\n",
       "      <th>Jan</th>\n",
       "      <td>112</td>\n",
       "      <td>115</td>\n",
       "      <td>145</td>\n",
       "      <td>171</td>\n",
       "      <td>196</td>\n",
       "      <td>204</td>\n",
       "      <td>242</td>\n",
       "      <td>284</td>\n",
       "      <td>315</td>\n",
       "      <td>340</td>\n",
       "      <td>360</td>\n",
       "      <td>417</td>\n",
       "    </tr>\n",
       "    <tr>\n",
       "      <th>Feb</th>\n",
       "      <td>118</td>\n",
       "      <td>126</td>\n",
       "      <td>150</td>\n",
       "      <td>180</td>\n",
       "      <td>196</td>\n",
       "      <td>188</td>\n",
       "      <td>233</td>\n",
       "      <td>277</td>\n",
       "      <td>301</td>\n",
       "      <td>318</td>\n",
       "      <td>342</td>\n",
       "      <td>391</td>\n",
       "    </tr>\n",
       "    <tr>\n",
       "      <th>Mar</th>\n",
       "      <td>132</td>\n",
       "      <td>141</td>\n",
       "      <td>178</td>\n",
       "      <td>193</td>\n",
       "      <td>236</td>\n",
       "      <td>235</td>\n",
       "      <td>267</td>\n",
       "      <td>317</td>\n",
       "      <td>356</td>\n",
       "      <td>362</td>\n",
       "      <td>406</td>\n",
       "      <td>419</td>\n",
       "    </tr>\n",
       "    <tr>\n",
       "      <th>Apr</th>\n",
       "      <td>129</td>\n",
       "      <td>135</td>\n",
       "      <td>163</td>\n",
       "      <td>181</td>\n",
       "      <td>235</td>\n",
       "      <td>227</td>\n",
       "      <td>269</td>\n",
       "      <td>313</td>\n",
       "      <td>348</td>\n",
       "      <td>348</td>\n",
       "      <td>396</td>\n",
       "      <td>461</td>\n",
       "    </tr>\n",
       "    <tr>\n",
       "      <th>May</th>\n",
       "      <td>121</td>\n",
       "      <td>125</td>\n",
       "      <td>172</td>\n",
       "      <td>183</td>\n",
       "      <td>229</td>\n",
       "      <td>234</td>\n",
       "      <td>270</td>\n",
       "      <td>318</td>\n",
       "      <td>355</td>\n",
       "      <td>363</td>\n",
       "      <td>420</td>\n",
       "      <td>472</td>\n",
       "    </tr>\n",
       "    <tr>\n",
       "      <th>Jun</th>\n",
       "      <td>135</td>\n",
       "      <td>149</td>\n",
       "      <td>178</td>\n",
       "      <td>218</td>\n",
       "      <td>243</td>\n",
       "      <td>264</td>\n",
       "      <td>315</td>\n",
       "      <td>374</td>\n",
       "      <td>422</td>\n",
       "      <td>435</td>\n",
       "      <td>472</td>\n",
       "      <td>535</td>\n",
       "    </tr>\n",
       "    <tr>\n",
       "      <th>Jul</th>\n",
       "      <td>148</td>\n",
       "      <td>170</td>\n",
       "      <td>199</td>\n",
       "      <td>230</td>\n",
       "      <td>264</td>\n",
       "      <td>302</td>\n",
       "      <td>364</td>\n",
       "      <td>413</td>\n",
       "      <td>465</td>\n",
       "      <td>491</td>\n",
       "      <td>548</td>\n",
       "      <td>622</td>\n",
       "    </tr>\n",
       "    <tr>\n",
       "      <th>Aug</th>\n",
       "      <td>148</td>\n",
       "      <td>170</td>\n",
       "      <td>199</td>\n",
       "      <td>242</td>\n",
       "      <td>272</td>\n",
       "      <td>293</td>\n",
       "      <td>347</td>\n",
       "      <td>405</td>\n",
       "      <td>467</td>\n",
       "      <td>505</td>\n",
       "      <td>559</td>\n",
       "      <td>606</td>\n",
       "    </tr>\n",
       "    <tr>\n",
       "      <th>Sep</th>\n",
       "      <td>136</td>\n",
       "      <td>158</td>\n",
       "      <td>184</td>\n",
       "      <td>209</td>\n",
       "      <td>237</td>\n",
       "      <td>259</td>\n",
       "      <td>312</td>\n",
       "      <td>355</td>\n",
       "      <td>404</td>\n",
       "      <td>404</td>\n",
       "      <td>463</td>\n",
       "      <td>508</td>\n",
       "    </tr>\n",
       "    <tr>\n",
       "      <th>Oct</th>\n",
       "      <td>119</td>\n",
       "      <td>133</td>\n",
       "      <td>162</td>\n",
       "      <td>191</td>\n",
       "      <td>211</td>\n",
       "      <td>229</td>\n",
       "      <td>274</td>\n",
       "      <td>306</td>\n",
       "      <td>347</td>\n",
       "      <td>359</td>\n",
       "      <td>407</td>\n",
       "      <td>461</td>\n",
       "    </tr>\n",
       "    <tr>\n",
       "      <th>Nov</th>\n",
       "      <td>104</td>\n",
       "      <td>114</td>\n",
       "      <td>146</td>\n",
       "      <td>172</td>\n",
       "      <td>180</td>\n",
       "      <td>203</td>\n",
       "      <td>237</td>\n",
       "      <td>271</td>\n",
       "      <td>305</td>\n",
       "      <td>310</td>\n",
       "      <td>362</td>\n",
       "      <td>390</td>\n",
       "    </tr>\n",
       "    <tr>\n",
       "      <th>Dec</th>\n",
       "      <td>118</td>\n",
       "      <td>140</td>\n",
       "      <td>166</td>\n",
       "      <td>194</td>\n",
       "      <td>201</td>\n",
       "      <td>229</td>\n",
       "      <td>278</td>\n",
       "      <td>306</td>\n",
       "      <td>336</td>\n",
       "      <td>337</td>\n",
       "      <td>405</td>\n",
       "      <td>432</td>\n",
       "    </tr>\n",
       "  </tbody>\n",
       "</table>\n",
       "</div>"
      ],
      "text/plain": [
       "year   1949  1950  1951  1952  1953  1954  1955  1956  1957  1958  1959  1960\n",
       "month                                                                        \n",
       "Jan     112   115   145   171   196   204   242   284   315   340   360   417\n",
       "Feb     118   126   150   180   196   188   233   277   301   318   342   391\n",
       "Mar     132   141   178   193   236   235   267   317   356   362   406   419\n",
       "Apr     129   135   163   181   235   227   269   313   348   348   396   461\n",
       "May     121   125   172   183   229   234   270   318   355   363   420   472\n",
       "Jun     135   149   178   218   243   264   315   374   422   435   472   535\n",
       "Jul     148   170   199   230   264   302   364   413   465   491   548   622\n",
       "Aug     148   170   199   242   272   293   347   405   467   505   559   606\n",
       "Sep     136   158   184   209   237   259   312   355   404   404   463   508\n",
       "Oct     119   133   162   191   211   229   274   306   347   359   407   461\n",
       "Nov     104   114   146   172   180   203   237   271   305   310   362   390\n",
       "Dec     118   140   166   194   201   229   278   306   336   337   405   432"
      ]
     },
     "execution_count": 2,
     "metadata": {},
     "output_type": "execute_result"
    }
   ],
   "source": [
    "sns.set()\n",
    "\n",
    "# Загружаем демо dataset из библиотеки\n",
    "flights_long = sns.load_dataset('flights')\n",
    "flights = flights_long.pivot('month', 'year', 'passengers')\n",
    "flights"
   ]
  },
  {
   "cell_type": "code",
   "execution_count": 7,
   "id": "399eb4ab",
   "metadata": {},
   "outputs": [
    {
     "data": {
      "text/plain": [
       "<AxesSubplot:xlabel='year', ylabel='month'>"
      ]
     },
     "execution_count": 7,
     "metadata": {},
     "output_type": "execute_result"
    },
    {
     "data": {
      "image/png": "[encoded data removed]",
      "text/plain": [
       "<Figure size 648x432 with 2 Axes>"
      ]
     },
     "metadata": {},
     "output_type": "display_data"
    }
   ],
   "source": [
    "f, ax = plt.subplots(figsize=(9,6))\n",
    "sns.heatmap(flights, annot=True, fmt='d', linewidths=.5, ax=ax)"
   ]
  },
  {
   "cell_type": "code",
   "execution_count": 8,
   "id": "a26aa976",
   "metadata": {},
   "outputs": [],
   "source": [
    "import pandas as pd"
   ]
  },
  {
   "cell_type": "code",
   "execution_count": 9,
   "id": "29309a85",
   "metadata": {},
   "outputs": [
    {
     "data": {
      "text/html": [
       "<div>\n",
       "<style scoped>\n",
       "    .dataframe tbody tr th:only-of-type {\n",
       "        vertical-align: middle;\n",
       "    }\n",
       "\n",
       "    .dataframe tbody tr th {\n",
       "        vertical-align: top;\n",
       "    }\n",
       "\n",
       "    .dataframe thead th {\n",
       "        text-align: right;\n",
       "    }\n",
       "</style>\n",
       "<table border=\"1\" class=\"dataframe\">\n",
       "  <thead>\n",
       "    <tr style=\"text-align: right;\">\n",
       "      <th></th>\n",
       "      <th>group</th>\n",
       "      <th>phrase</th>\n",
       "      <th>effect</th>\n",
       "      <th>ad_id</th>\n",
       "      <th>title</th>\n",
       "      <th>text</th>\n",
       "      <th>link</th>\n",
       "      <th>campaign</th>\n",
       "    </tr>\n",
       "  </thead>\n",
       "  <tbody>\n",
       "    <tr>\n",
       "      <th>0</th>\n",
       "      <td>мрт менделеевская</td>\n",
       "      <td>\"!мрт !менделеевская\"</td>\n",
       "      <td>4.5</td>\n",
       "      <td>2101704995</td>\n",
       "      <td>МРТ на Менделеевской от 2000₽</td>\n",
       "      <td>24 часа. МРТ в день обращения. Консультация вр...</td>\n",
       "      <td>https://awesome-site.ru/?utm_source=yandex&amp;utm...</td>\n",
       "      <td>a825749b87</td>\n",
       "    </tr>\n",
       "    <tr>\n",
       "      <th>1</th>\n",
       "      <td>мрт цао</td>\n",
       "      <td>\"мрт менделеевская\"</td>\n",
       "      <td>4.5</td>\n",
       "      <td>2101704995</td>\n",
       "      <td>МРТ на Менделеевской от 2000₽</td>\n",
       "      <td>24 часа. МРТ в день обращения. Консультация вр...</td>\n",
       "      <td>https://awesome-site.ru/?utm_source=yandex&amp;utm...</td>\n",
       "      <td>a825749b87</td>\n",
       "    </tr>\n",
       "    <tr>\n",
       "      <th>2</th>\n",
       "      <td>мрт цао</td>\n",
       "      <td>мрт менделеевская -головы -позвоночника -сдела...</td>\n",
       "      <td>7.4</td>\n",
       "      <td>2101704995</td>\n",
       "      <td>МРТ на Менделеевской от 2000₽</td>\n",
       "      <td>24 часа. МРТ в день обращения. Консультация вр...</td>\n",
       "      <td>https://awesome-site.ru/?utm_source=yandex&amp;utm...</td>\n",
       "      <td>a825749b87</td>\n",
       "    </tr>\n",
       "    <tr>\n",
       "      <th>3</th>\n",
       "      <td>мрт цао</td>\n",
       "      <td>\"!мрт !цао\"</td>\n",
       "      <td>5.0</td>\n",
       "      <td>2101704999</td>\n",
       "      <td>МРТ в ЦАО от 2000₽. Звоните!</td>\n",
       "      <td>24 часа. МРТ в день обращения. Консультация вр...</td>\n",
       "      <td>https://awesome-site.ru/?utm_source=yandex&amp;utm...</td>\n",
       "      <td>9cc0c5f6ca</td>\n",
       "    </tr>\n",
       "    <tr>\n",
       "      <th>4</th>\n",
       "      <td>мрт сао</td>\n",
       "      <td>\"мрт цао\"</td>\n",
       "      <td>5.0</td>\n",
       "      <td>2101704999</td>\n",
       "      <td>МРТ в ЦАО от 2000₽. Звоните!</td>\n",
       "      <td>24 часа. МРТ в день обращения. Консультация вр...</td>\n",
       "      <td>https://awesome-site.ru/?utm_source=yandex&amp;utm...</td>\n",
       "      <td>9cc0c5f6ca</td>\n",
       "    </tr>\n",
       "  </tbody>\n",
       "</table>\n",
       "</div>"
      ],
      "text/plain": [
       "               group                                             phrase  \\\n",
       "0  мрт менделеевская                              \"!мрт !менделеевская\"   \n",
       "1            мрт цао                                \"мрт менделеевская\"   \n",
       "2            мрт цао  мрт менделеевская -головы -позвоночника -сдела...   \n",
       "3            мрт цао                                        \"!мрт !цао\"   \n",
       "4            мрт сао                                          \"мрт цао\"   \n",
       "\n",
       "   effect       ad_id                          title  \\\n",
       "0     4.5  2101704995  МРТ на Менделеевской от 2000₽   \n",
       "1     4.5  2101704995  МРТ на Менделеевской от 2000₽   \n",
       "2     7.4  2101704995  МРТ на Менделеевской от 2000₽   \n",
       "3     5.0  2101704999   МРТ в ЦАО от 2000₽. Звоните!   \n",
       "4     5.0  2101704999   МРТ в ЦАО от 2000₽. Звоните!   \n",
       "\n",
       "                                                text  \\\n",
       "0  24 часа. МРТ в день обращения. Консультация вр...   \n",
       "1  24 часа. МРТ в день обращения. Консультация вр...   \n",
       "2  24 часа. МРТ в день обращения. Консультация вр...   \n",
       "3  24 часа. МРТ в день обращения. Консультация вр...   \n",
       "4  24 часа. МРТ в день обращения. Консультация вр...   \n",
       "\n",
       "                                                link    campaign  \n",
       "0  https://awesome-site.ru/?utm_source=yandex&utm...  a825749b87  \n",
       "1  https://awesome-site.ru/?utm_source=yandex&utm...  a825749b87  \n",
       "2  https://awesome-site.ru/?utm_source=yandex&utm...  a825749b87  \n",
       "3  https://awesome-site.ru/?utm_source=yandex&utm...  9cc0c5f6ca  \n",
       "4  https://awesome-site.ru/?utm_source=yandex&utm...  9cc0c5f6ca  "
      ]
     },
     "execution_count": 9,
     "metadata": {},
     "output_type": "execute_result"
    }
   ],
   "source": [
    "data = pd.read_csv('module_09_ad_campaigns_stats.csv')\n",
    "data.head()"
   ]
  },
  {
   "cell_type": "code",
   "execution_count": 15,
   "id": "ca8e7433",
   "metadata": {},
   "outputs": [
    {
     "data": {
      "text/plain": [
       "7f35591a28    456\n",
       "8e77a0e565    348\n",
       "2cc2e7d770    240\n",
       "f6d2ae1e3d    220\n",
       "e90f4db55a    218\n",
       "Name: campaign, dtype: int64"
      ]
     },
     "execution_count": 15,
     "metadata": {},
     "output_type": "execute_result"
    }
   ],
   "source": [
    "# Считаем количество записей по каждой кампании\n",
    "data.campaign.value_counts().head()"
   ]
  },
  {
   "cell_type": "code",
   "execution_count": 16,
   "id": "893a1cf1",
   "metadata": {},
   "outputs": [
    {
     "data": {
      "text/plain": [
       "Index(['7f35591a28', '8e77a0e565', '2cc2e7d770', 'f6d2ae1e3d', 'e90f4db55a',\n",
       "       '7388fb4c7b', 'be97523396', '8d3a748298', 'acc3077e55', '718ce6a065',\n",
       "       ...\n",
       "       '52a474fef2', '5a7508fa8d', 'a117c5fc1b', '63153306ff', 'd5b16c7769',\n",
       "       'da872d1fb4', '7b17b2d188', 'eb577faed1', 'b3f52e6f64', 'f80e902d76'],\n",
       "      dtype='object', length=115)"
      ]
     },
     "execution_count": 16,
     "metadata": {},
     "output_type": "execute_result"
    }
   ],
   "source": [
    "# Достаём из индекса список кампаний\n",
    "data.campaign.value_counts().index"
   ]
  },
  {
   "cell_type": "code",
   "execution_count": 17,
   "id": "1c6fc3ea",
   "metadata": {},
   "outputs": [
    {
     "data": {
      "text/plain": [
       "['7f35591a28', '8e77a0e565', '2cc2e7d770', 'f6d2ae1e3d', 'e90f4db55a']"
      ]
     },
     "execution_count": 17,
     "metadata": {},
     "output_type": "execute_result"
    }
   ],
   "source": [
    "most_popular_campaign = data.campaign.value_counts().index[:5].tolist()\n",
    "most_popular_campaign"
   ]
  },
  {
   "cell_type": "code",
   "execution_count": 19,
   "id": "c82e8a7a",
   "metadata": {},
   "outputs": [
    {
     "data": {
      "text/plain": [
       "['7f35591a28',\n",
       " '8e77a0e565',\n",
       " '2cc2e7d770',\n",
       " 'f6d2ae1e3d',\n",
       " 'e90f4db55a',\n",
       " '7388fb4c7b',\n",
       " 'be97523396',\n",
       " '8d3a748298',\n",
       " 'acc3077e55']"
      ]
     },
     "execution_count": 19,
     "metadata": {},
     "output_type": "execute_result"
    }
   ],
   "source": [
    "most_popular_campaign_top_09 = data.campaign.value_counts().index[:9].tolist()\n",
    "most_popular_campaign_top_09"
   ]
  },
  {
   "cell_type": "code",
   "execution_count": 29,
   "id": "cd57dabd",
   "metadata": {},
   "outputs": [
    {
     "data": {
      "text/plain": [
       "['2cc2e7d770',\n",
       " '7388fb4c7b',\n",
       " '7f35591a28',\n",
       " '8d3a748298',\n",
       " '8e77a0e565',\n",
       " 'acc3077e55',\n",
       " 'be97523396',\n",
       " 'e90f4db55a',\n",
       " 'f6d2ae1e3d']"
      ]
     },
     "execution_count": 29,
     "metadata": {},
     "output_type": "execute_result"
    }
   ],
   "source": [
    "most_popular_campaign_top_09.sort()\n",
    "most_popular_campaign_top_09"
   ]
  },
  {
   "cell_type": "code",
   "execution_count": 30,
   "id": "0c576fb6",
   "metadata": {},
   "outputs": [],
   "source": [
    "data = data[data['campaign'].isin(most_popular_campaign)]"
   ]
  },
  {
   "cell_type": "code",
   "execution_count": 32,
   "id": "d712543a",
   "metadata": {},
   "outputs": [
    {
     "data": {
      "text/plain": [
       "array(['7f35591a28', '8e77a0e565', '2cc2e7d770', 'f6d2ae1e3d',\n",
       "       'e90f4db55a'], dtype=object)"
      ]
     },
     "execution_count": 32,
     "metadata": {},
     "output_type": "execute_result"
    }
   ],
   "source": [
    "data['campaign'].unique()"
   ]
  },
  {
   "cell_type": "code",
   "execution_count": 33,
   "id": "5441afdc",
   "metadata": {},
   "outputs": [],
   "source": [
    "%matplotlib inline"
   ]
  },
  {
   "cell_type": "code",
   "execution_count": 35,
   "id": "5631413e",
   "metadata": {},
   "outputs": [
    {
     "data": {
      "text/plain": [
       "<AxesSubplot:>"
      ]
     },
     "execution_count": 35,
     "metadata": {},
     "output_type": "execute_result"
    },
    {
     "data": {
      "image/png": "[encoded data removed]",
      "text/plain": [
       "<Figure size 432x288 with 1 Axes>"
      ]
     },
     "metadata": {
      "needs_background": "light"
     },
     "output_type": "display_data"
    }
   ],
   "source": [
    "data['campaign'].hist()"
   ]
  },
  {
   "cell_type": "markdown",
   "id": "d6e90769",
   "metadata": {},
   "source": [
    "## Блок 03 - Оформление графиков в Matplotlib"
   ]
  },
  {
   "cell_type": "code",
   "execution_count": 36,
   "id": "34d6ffce",
   "metadata": {},
   "outputs": [
    {
     "data": {
      "text/html": [
       "<div>\n",
       "<style scoped>\n",
       "    .dataframe tbody tr th:only-of-type {\n",
       "        vertical-align: middle;\n",
       "    }\n",
       "\n",
       "    .dataframe tbody tr th {\n",
       "        vertical-align: top;\n",
       "    }\n",
       "\n",
       "    .dataframe thead th {\n",
       "        text-align: right;\n",
       "    }\n",
       "</style>\n",
       "<table border=\"1\" class=\"dataframe\">\n",
       "  <thead>\n",
       "    <tr style=\"text-align: right;\">\n",
       "      <th></th>\n",
       "      <th>month</th>\n",
       "      <th>2016</th>\n",
       "      <th>2017</th>\n",
       "      <th>2018</th>\n",
       "    </tr>\n",
       "  </thead>\n",
       "  <tbody>\n",
       "    <tr>\n",
       "      <th>0</th>\n",
       "      <td>1</td>\n",
       "      <td>513</td>\n",
       "      <td>465</td>\n",
       "      <td>500</td>\n",
       "    </tr>\n",
       "    <tr>\n",
       "      <th>1</th>\n",
       "      <td>2</td>\n",
       "      <td>534</td>\n",
       "      <td>481</td>\n",
       "      <td>523</td>\n",
       "    </tr>\n",
       "    <tr>\n",
       "      <th>2</th>\n",
       "      <td>3</td>\n",
       "      <td>608</td>\n",
       "      <td>553</td>\n",
       "      <td>580</td>\n",
       "    </tr>\n",
       "    <tr>\n",
       "      <th>3</th>\n",
       "      <td>4</td>\n",
       "      <td>620</td>\n",
       "      <td>561</td>\n",
       "      <td>593</td>\n",
       "    </tr>\n",
       "    <tr>\n",
       "      <th>4</th>\n",
       "      <td>5</td>\n",
       "      <td>577</td>\n",
       "      <td>563</td>\n",
       "      <td>600</td>\n",
       "    </tr>\n",
       "  </tbody>\n",
       "</table>\n",
       "</div>"
      ],
      "text/plain": [
       "   month  2016  2017  2018\n",
       "0      1   513   465   500\n",
       "1      2   534   481   523\n",
       "2      3   608   553   580\n",
       "3      4   620   561   593\n",
       "4      5   577   563   600"
      ]
     },
     "execution_count": 36,
     "metadata": {},
     "output_type": "execute_result"
    }
   ],
   "source": [
    "data = pd.read_csv('module_09_sales_data.csv', sep=';')\n",
    "data.head()"
   ]
  },
  {
   "cell_type": "code",
   "execution_count": 37,
   "id": "6e6ef3c5",
   "metadata": {},
   "outputs": [
    {
     "data": {
      "text/plain": [
       "[<matplotlib.lines.Line2D at 0x198863c18b0>]"
      ]
     },
     "execution_count": 37,
     "metadata": {},
     "output_type": "execute_result"
    },
    {
     "data": {
      "image/png": "[encoded data removed]",
      "text/plain": [
       "<Figure size 432x288 with 1 Axes>"
      ]
     },
     "metadata": {
      "needs_background": "light"
     },
     "output_type": "display_data"
    }
   ],
   "source": [
    "plt.plot(data['month'], data['2016'])\n",
    "plt.plot(data['2017'])\n",
    "plt.plot(data['2018'])"
   ]
  },
  {
   "cell_type": "code",
   "execution_count": 42,
   "id": "a056524d",
   "metadata": {},
   "outputs": [
    {
     "name": "stderr",
     "output_type": "stream",
     "text": [
      "No handles with labels found to put in legend.\n"
     ]
    },
    {
     "data": {
      "text/plain": [
       "<matplotlib.legend.Legend at 0x19888655880>"
      ]
     },
     "execution_count": 42,
     "metadata": {},
     "output_type": "execute_result"
    },
    {
     "data": {
      "image/png": "[encoded data removed]",
      "text/plain": [
       "<Figure size 432x288 with 1 Axes>"
      ]
     },
     "metadata": {
      "needs_background": "light"
     },
     "output_type": "display_data"
    }
   ],
   "source": [
    "# Добавим точки на график 2016 года, изменим тип линии 2017 года, увеличим толщину линии данных 2018 года и добавим легенду\n",
    "plt.plot(data['month'], data['2016'], marker='o')\n",
    "plt.plot(data['2017'], linestyle='dashed')\n",
    "plt.plot(data['2018'], linewidth=3)\n",
    "plt.legend()"
   ]
  },
  {
   "cell_type": "markdown",
   "id": "243fb58b",
   "metadata": {},
   "source": [
    "## Блок 04 - Seaborn для продвинутых визуализаций"
   ]
  },
  {
   "cell_type": "code",
   "execution_count": 46,
   "id": "3edb5d8a",
   "metadata": {},
   "outputs": [
    {
     "data": {
      "text/html": [
       "<div>\n",
       "<style scoped>\n",
       "    .dataframe tbody tr th:only-of-type {\n",
       "        vertical-align: middle;\n",
       "    }\n",
       "\n",
       "    .dataframe tbody tr th {\n",
       "        vertical-align: top;\n",
       "    }\n",
       "\n",
       "    .dataframe thead th {\n",
       "        text-align: right;\n",
       "    }\n",
       "</style>\n",
       "<table border=\"1\" class=\"dataframe\">\n",
       "  <thead>\n",
       "    <tr style=\"text-align: right;\">\n",
       "      <th></th>\n",
       "      <th>month</th>\n",
       "      <th>p1</th>\n",
       "      <th>p2</th>\n",
       "      <th>p3</th>\n",
       "      <th>p4</th>\n",
       "      <th>p5</th>\n",
       "      <th>p6</th>\n",
       "      <th>p7</th>\n",
       "      <th>p8</th>\n",
       "      <th>p9</th>\n",
       "      <th>p10</th>\n",
       "    </tr>\n",
       "  </thead>\n",
       "  <tbody>\n",
       "    <tr>\n",
       "      <th>0</th>\n",
       "      <td>2018-01-01</td>\n",
       "      <td>7</td>\n",
       "      <td>185</td>\n",
       "      <td>385</td>\n",
       "      <td>-129</td>\n",
       "      <td>2260</td>\n",
       "      <td>98</td>\n",
       "      <td>245</td>\n",
       "      <td>1250</td>\n",
       "      <td>214</td>\n",
       "      <td>415</td>\n",
       "    </tr>\n",
       "    <tr>\n",
       "      <th>1</th>\n",
       "      <td>2018-01-02</td>\n",
       "      <td>7</td>\n",
       "      <td>108</td>\n",
       "      <td>79</td>\n",
       "      <td>-142</td>\n",
       "      <td>3280</td>\n",
       "      <td>113</td>\n",
       "      <td>149</td>\n",
       "      <td>1161</td>\n",
       "      <td>123</td>\n",
       "      <td>376</td>\n",
       "    </tr>\n",
       "    <tr>\n",
       "      <th>2</th>\n",
       "      <td>2018-01-03</td>\n",
       "      <td>8</td>\n",
       "      <td>214</td>\n",
       "      <td>80</td>\n",
       "      <td>-151</td>\n",
       "      <td>410</td>\n",
       "      <td>141</td>\n",
       "      <td>297</td>\n",
       "      <td>1315</td>\n",
       "      <td>146</td>\n",
       "      <td>397</td>\n",
       "    </tr>\n",
       "    <tr>\n",
       "      <th>3</th>\n",
       "      <td>2018-01-04</td>\n",
       "      <td>8</td>\n",
       "      <td>81</td>\n",
       "      <td>372</td>\n",
       "      <td>-160</td>\n",
       "      <td>1289</td>\n",
       "      <td>46</td>\n",
       "      <td>447</td>\n",
       "      <td>1389</td>\n",
       "      <td>200</td>\n",
       "      <td>253</td>\n",
       "    </tr>\n",
       "    <tr>\n",
       "      <th>4</th>\n",
       "      <td>2018-01-05</td>\n",
       "      <td>9</td>\n",
       "      <td>113</td>\n",
       "      <td>144</td>\n",
       "      <td>-173</td>\n",
       "      <td>1297</td>\n",
       "      <td>67</td>\n",
       "      <td>413</td>\n",
       "      <td>938</td>\n",
       "      <td>129</td>\n",
       "      <td>489</td>\n",
       "    </tr>\n",
       "  </tbody>\n",
       "</table>\n",
       "</div>"
      ],
      "text/plain": [
       "        month  p1   p2   p3   p4    p5   p6   p7    p8   p9  p10\n",
       "0  2018-01-01   7  185  385 -129  2260   98  245  1250  214  415\n",
       "1  2018-01-02   7  108   79 -142  3280  113  149  1161  123  376\n",
       "2  2018-01-03   8  214   80 -151   410  141  297  1315  146  397\n",
       "3  2018-01-04   8   81  372 -160  1289   46  447  1389  200  253\n",
       "4  2018-01-05   9  113  144 -173  1297   67  413   938  129  489"
      ]
     },
     "execution_count": 46,
     "metadata": {},
     "output_type": "execute_result"
    }
   ],
   "source": [
    "import pandas as pd\n",
    "features = pd.read_csv('module_09_correlation.tsv', sep='\\t')\n",
    "features.head()"
   ]
  },
  {
   "cell_type": "code",
   "execution_count": 47,
   "id": "57636112",
   "metadata": {},
   "outputs": [],
   "source": [
    "# Удалаяем солбец month\n",
    "features.drop('month', axis=1, inplace=True)"
   ]
  },
  {
   "cell_type": "code",
   "execution_count": 58,
   "id": "c7c4385c",
   "metadata": {},
   "outputs": [
    {
     "data": {
      "text/html": [
       "<div>\n",
       "<style scoped>\n",
       "    .dataframe tbody tr th:only-of-type {\n",
       "        vertical-align: middle;\n",
       "    }\n",
       "\n",
       "    .dataframe tbody tr th {\n",
       "        vertical-align: top;\n",
       "    }\n",
       "\n",
       "    .dataframe thead th {\n",
       "        text-align: right;\n",
       "    }\n",
       "</style>\n",
       "<table border=\"1\" class=\"dataframe\">\n",
       "  <thead>\n",
       "    <tr style=\"text-align: right;\">\n",
       "      <th></th>\n",
       "      <th>p1</th>\n",
       "      <th>p2</th>\n",
       "      <th>p3</th>\n",
       "      <th>p4</th>\n",
       "      <th>p5</th>\n",
       "      <th>p6</th>\n",
       "      <th>p7</th>\n",
       "      <th>p8</th>\n",
       "      <th>p9</th>\n",
       "      <th>p10</th>\n",
       "    </tr>\n",
       "  </thead>\n",
       "  <tbody>\n",
       "    <tr>\n",
       "      <th>0</th>\n",
       "      <td>7</td>\n",
       "      <td>185</td>\n",
       "      <td>385</td>\n",
       "      <td>-129</td>\n",
       "      <td>2260</td>\n",
       "      <td>98</td>\n",
       "      <td>245</td>\n",
       "      <td>1250</td>\n",
       "      <td>214</td>\n",
       "      <td>415</td>\n",
       "    </tr>\n",
       "    <tr>\n",
       "      <th>1</th>\n",
       "      <td>7</td>\n",
       "      <td>108</td>\n",
       "      <td>79</td>\n",
       "      <td>-142</td>\n",
       "      <td>3280</td>\n",
       "      <td>113</td>\n",
       "      <td>149</td>\n",
       "      <td>1161</td>\n",
       "      <td>123</td>\n",
       "      <td>376</td>\n",
       "    </tr>\n",
       "    <tr>\n",
       "      <th>2</th>\n",
       "      <td>8</td>\n",
       "      <td>214</td>\n",
       "      <td>80</td>\n",
       "      <td>-151</td>\n",
       "      <td>410</td>\n",
       "      <td>141</td>\n",
       "      <td>297</td>\n",
       "      <td>1315</td>\n",
       "      <td>146</td>\n",
       "      <td>397</td>\n",
       "    </tr>\n",
       "    <tr>\n",
       "      <th>3</th>\n",
       "      <td>8</td>\n",
       "      <td>81</td>\n",
       "      <td>372</td>\n",
       "      <td>-160</td>\n",
       "      <td>1289</td>\n",
       "      <td>46</td>\n",
       "      <td>447</td>\n",
       "      <td>1389</td>\n",
       "      <td>200</td>\n",
       "      <td>253</td>\n",
       "    </tr>\n",
       "    <tr>\n",
       "      <th>4</th>\n",
       "      <td>9</td>\n",
       "      <td>113</td>\n",
       "      <td>144</td>\n",
       "      <td>-173</td>\n",
       "      <td>1297</td>\n",
       "      <td>67</td>\n",
       "      <td>413</td>\n",
       "      <td>938</td>\n",
       "      <td>129</td>\n",
       "      <td>489</td>\n",
       "    </tr>\n",
       "  </tbody>\n",
       "</table>\n",
       "</div>"
      ],
      "text/plain": [
       "   p1   p2   p3   p4    p5   p6   p7    p8   p9  p10\n",
       "0   7  185  385 -129  2260   98  245  1250  214  415\n",
       "1   7  108   79 -142  3280  113  149  1161  123  376\n",
       "2   8  214   80 -151   410  141  297  1315  146  397\n",
       "3   8   81  372 -160  1289   46  447  1389  200  253\n",
       "4   9  113  144 -173  1297   67  413   938  129  489"
      ]
     },
     "execution_count": 58,
     "metadata": {},
     "output_type": "execute_result"
    }
   ],
   "source": [
    "features.head()"
   ]
  },
  {
   "cell_type": "code",
   "execution_count": 59,
   "id": "683c1699",
   "metadata": {},
   "outputs": [
    {
     "data": {
      "text/html": [
       "<div>\n",
       "<style scoped>\n",
       "    .dataframe tbody tr th:only-of-type {\n",
       "        vertical-align: middle;\n",
       "    }\n",
       "\n",
       "    .dataframe tbody tr th {\n",
       "        vertical-align: top;\n",
       "    }\n",
       "\n",
       "    .dataframe thead th {\n",
       "        text-align: right;\n",
       "    }\n",
       "</style>\n",
       "<table border=\"1\" class=\"dataframe\">\n",
       "  <thead>\n",
       "    <tr style=\"text-align: right;\">\n",
       "      <th></th>\n",
       "      <th>p1</th>\n",
       "      <th>p2</th>\n",
       "      <th>p3</th>\n",
       "      <th>p4</th>\n",
       "      <th>p5</th>\n",
       "      <th>p6</th>\n",
       "      <th>p7</th>\n",
       "      <th>p8</th>\n",
       "      <th>p9</th>\n",
       "      <th>p10</th>\n",
       "    </tr>\n",
       "  </thead>\n",
       "  <tbody>\n",
       "    <tr>\n",
       "      <th>p1</th>\n",
       "      <td>1.000000</td>\n",
       "      <td>0.249489</td>\n",
       "      <td>0.619757</td>\n",
       "      <td>-0.999524</td>\n",
       "      <td>0.587943</td>\n",
       "      <td>0.433063</td>\n",
       "      <td>0.577808</td>\n",
       "      <td>0.967058</td>\n",
       "      <td>0.466873</td>\n",
       "      <td>0.945575</td>\n",
       "    </tr>\n",
       "    <tr>\n",
       "      <th>p2</th>\n",
       "      <td>0.249489</td>\n",
       "      <td>1.000000</td>\n",
       "      <td>0.113910</td>\n",
       "      <td>-0.248287</td>\n",
       "      <td>0.141641</td>\n",
       "      <td>0.126832</td>\n",
       "      <td>0.078979</td>\n",
       "      <td>0.262559</td>\n",
       "      <td>0.012126</td>\n",
       "      <td>0.256899</td>\n",
       "    </tr>\n",
       "    <tr>\n",
       "      <th>p3</th>\n",
       "      <td>0.619757</td>\n",
       "      <td>0.113910</td>\n",
       "      <td>1.000000</td>\n",
       "      <td>-0.620411</td>\n",
       "      <td>0.309102</td>\n",
       "      <td>0.320015</td>\n",
       "      <td>0.382502</td>\n",
       "      <td>0.607829</td>\n",
       "      <td>0.249586</td>\n",
       "      <td>0.606912</td>\n",
       "    </tr>\n",
       "    <tr>\n",
       "      <th>p4</th>\n",
       "      <td>-0.999524</td>\n",
       "      <td>-0.248287</td>\n",
       "      <td>-0.620411</td>\n",
       "      <td>1.000000</td>\n",
       "      <td>-0.586430</td>\n",
       "      <td>-0.432828</td>\n",
       "      <td>-0.579732</td>\n",
       "      <td>-0.968715</td>\n",
       "      <td>-0.463727</td>\n",
       "      <td>-0.945416</td>\n",
       "    </tr>\n",
       "    <tr>\n",
       "      <th>p5</th>\n",
       "      <td>0.587943</td>\n",
       "      <td>0.141641</td>\n",
       "      <td>0.309102</td>\n",
       "      <td>-0.586430</td>\n",
       "      <td>1.000000</td>\n",
       "      <td>0.155944</td>\n",
       "      <td>0.297214</td>\n",
       "      <td>0.571159</td>\n",
       "      <td>0.269545</td>\n",
       "      <td>0.537990</td>\n",
       "    </tr>\n",
       "    <tr>\n",
       "      <th>p6</th>\n",
       "      <td>0.433063</td>\n",
       "      <td>0.126832</td>\n",
       "      <td>0.320015</td>\n",
       "      <td>-0.432828</td>\n",
       "      <td>0.155944</td>\n",
       "      <td>1.000000</td>\n",
       "      <td>0.313817</td>\n",
       "      <td>0.411173</td>\n",
       "      <td>0.255341</td>\n",
       "      <td>0.422155</td>\n",
       "    </tr>\n",
       "    <tr>\n",
       "      <th>p7</th>\n",
       "      <td>0.577808</td>\n",
       "      <td>0.078979</td>\n",
       "      <td>0.382502</td>\n",
       "      <td>-0.579732</td>\n",
       "      <td>0.297214</td>\n",
       "      <td>0.313817</td>\n",
       "      <td>1.000000</td>\n",
       "      <td>0.573135</td>\n",
       "      <td>0.286736</td>\n",
       "      <td>0.559694</td>\n",
       "    </tr>\n",
       "    <tr>\n",
       "      <th>p8</th>\n",
       "      <td>0.967058</td>\n",
       "      <td>0.262559</td>\n",
       "      <td>0.607829</td>\n",
       "      <td>-0.968715</td>\n",
       "      <td>0.571159</td>\n",
       "      <td>0.411173</td>\n",
       "      <td>0.573135</td>\n",
       "      <td>1.000000</td>\n",
       "      <td>0.433534</td>\n",
       "      <td>0.911911</td>\n",
       "    </tr>\n",
       "    <tr>\n",
       "      <th>p9</th>\n",
       "      <td>0.466873</td>\n",
       "      <td>0.012126</td>\n",
       "      <td>0.249586</td>\n",
       "      <td>-0.463727</td>\n",
       "      <td>0.269545</td>\n",
       "      <td>0.255341</td>\n",
       "      <td>0.286736</td>\n",
       "      <td>0.433534</td>\n",
       "      <td>1.000000</td>\n",
       "      <td>0.453852</td>\n",
       "    </tr>\n",
       "    <tr>\n",
       "      <th>p10</th>\n",
       "      <td>0.945575</td>\n",
       "      <td>0.256899</td>\n",
       "      <td>0.606912</td>\n",
       "      <td>-0.945416</td>\n",
       "      <td>0.537990</td>\n",
       "      <td>0.422155</td>\n",
       "      <td>0.559694</td>\n",
       "      <td>0.911911</td>\n",
       "      <td>0.453852</td>\n",
       "      <td>1.000000</td>\n",
       "    </tr>\n",
       "  </tbody>\n",
       "</table>\n",
       "</div>"
      ],
      "text/plain": [
       "           p1        p2        p3        p4        p5        p6        p7  \\\n",
       "p1   1.000000  0.249489  0.619757 -0.999524  0.587943  0.433063  0.577808   \n",
       "p2   0.249489  1.000000  0.113910 -0.248287  0.141641  0.126832  0.078979   \n",
       "p3   0.619757  0.113910  1.000000 -0.620411  0.309102  0.320015  0.382502   \n",
       "p4  -0.999524 -0.248287 -0.620411  1.000000 -0.586430 -0.432828 -0.579732   \n",
       "p5   0.587943  0.141641  0.309102 -0.586430  1.000000  0.155944  0.297214   \n",
       "p6   0.433063  0.126832  0.320015 -0.432828  0.155944  1.000000  0.313817   \n",
       "p7   0.577808  0.078979  0.382502 -0.579732  0.297214  0.313817  1.000000   \n",
       "p8   0.967058  0.262559  0.607829 -0.968715  0.571159  0.411173  0.573135   \n",
       "p9   0.466873  0.012126  0.249586 -0.463727  0.269545  0.255341  0.286736   \n",
       "p10  0.945575  0.256899  0.606912 -0.945416  0.537990  0.422155  0.559694   \n",
       "\n",
       "           p8        p9       p10  \n",
       "p1   0.967058  0.466873  0.945575  \n",
       "p2   0.262559  0.012126  0.256899  \n",
       "p3   0.607829  0.249586  0.606912  \n",
       "p4  -0.968715 -0.463727 -0.945416  \n",
       "p5   0.571159  0.269545  0.537990  \n",
       "p6   0.411173  0.255341  0.422155  \n",
       "p7   0.573135  0.286736  0.559694  \n",
       "p8   1.000000  0.433534  0.911911  \n",
       "p9   0.433534  1.000000  0.453852  \n",
       "p10  0.911911  0.453852  1.000000  "
      ]
     },
     "execution_count": 59,
     "metadata": {},
     "output_type": "execute_result"
    }
   ],
   "source": [
    "# Считаем корреляцию\n",
    "features.corr()"
   ]
  },
  {
   "cell_type": "code",
   "execution_count": 61,
   "id": "be62b1aa",
   "metadata": {},
   "outputs": [
    {
     "data": {
      "text/plain": [
       "<AxesSubplot:>"
      ]
     },
     "execution_count": 61,
     "metadata": {},
     "output_type": "execute_result"
    },
    {
     "data": {
      "image/png": "[encoded data removed]",
      "text/plain": [
       "<Figure size 648x432 with 2 Axes>"
      ]
     },
     "metadata": {
      "needs_background": "light"
     },
     "output_type": "display_data"
    }
   ],
   "source": [
    "# Визуалиируем матрицу корреляций\n",
    "import matplotlib.pyplot as plt\n",
    "import seaborn as sns\n",
    "\n",
    "f, ax = plt.subplots(figsize=(9, 6))\n",
    "# Добавляем в sns.heatmap аннотации annot=True, формат вывода fmt='.1f'\n",
    "# и другую палитру cmap=sns.color_palette('coolwarm', 16)\n",
    "sns.heatmap(features.corr(), annot=True, fmt='.1f', ax=ax, cmap=sns.color_palette('coolwarm', 16))"
   ]
  },
  {
   "cell_type": "markdown",
   "id": "694e049d",
   "metadata": {},
   "source": [
    "## Блок 05 - Plotly для интерактивных отчётов"
   ]
  },
  {
   "cell_type": "code",
   "execution_count": 4,
   "id": "647966d8",
   "metadata": {},
   "outputs": [
    {
     "data": {
      "text/html": [
       "<div>\n",
       "<style scoped>\n",
       "    .dataframe tbody tr th:only-of-type {\n",
       "        vertical-align: middle;\n",
       "    }\n",
       "\n",
       "    .dataframe tbody tr th {\n",
       "        vertical-align: top;\n",
       "    }\n",
       "\n",
       "    .dataframe thead th {\n",
       "        text-align: right;\n",
       "    }\n",
       "</style>\n",
       "<table border=\"1\" class=\"dataframe\">\n",
       "  <thead>\n",
       "    <tr style=\"text-align: right;\">\n",
       "      <th></th>\n",
       "      <th>month</th>\n",
       "      <th>2016</th>\n",
       "      <th>2017</th>\n",
       "      <th>2018</th>\n",
       "    </tr>\n",
       "  </thead>\n",
       "  <tbody>\n",
       "    <tr>\n",
       "      <th>0</th>\n",
       "      <td>1</td>\n",
       "      <td>513</td>\n",
       "      <td>465</td>\n",
       "      <td>500</td>\n",
       "    </tr>\n",
       "    <tr>\n",
       "      <th>1</th>\n",
       "      <td>2</td>\n",
       "      <td>534</td>\n",
       "      <td>481</td>\n",
       "      <td>523</td>\n",
       "    </tr>\n",
       "    <tr>\n",
       "      <th>2</th>\n",
       "      <td>3</td>\n",
       "      <td>608</td>\n",
       "      <td>553</td>\n",
       "      <td>580</td>\n",
       "    </tr>\n",
       "    <tr>\n",
       "      <th>3</th>\n",
       "      <td>4</td>\n",
       "      <td>620</td>\n",
       "      <td>561</td>\n",
       "      <td>593</td>\n",
       "    </tr>\n",
       "    <tr>\n",
       "      <th>4</th>\n",
       "      <td>5</td>\n",
       "      <td>577</td>\n",
       "      <td>563</td>\n",
       "      <td>600</td>\n",
       "    </tr>\n",
       "  </tbody>\n",
       "</table>\n",
       "</div>"
      ],
      "text/plain": [
       "   month  2016  2017  2018\n",
       "0      1   513   465   500\n",
       "1      2   534   481   523\n",
       "2      3   608   553   580\n",
       "3      4   620   561   593\n",
       "4      5   577   563   600"
      ]
     },
     "execution_count": 4,
     "metadata": {},
     "output_type": "execute_result"
    }
   ],
   "source": [
    "# Подготовка данных\n",
    "import pandas as pd\n",
    "\n",
    "data = pd.read_csv('module_09_sales_data.csv', sep=';')\n",
    "data.head()"
   ]
  },
  {
   "cell_type": "code",
   "execution_count": null,
   "id": "81918305",
   "metadata": {},
   "outputs": [],
   "source": [
    "import plotly\n",
    "# Грандиозные именения в библиотеке, нет set_credentials_file пример не работоспособен\n",
    "# Необходимо разбираться\n",
    "# import plotly.plotly as py\n",
    "# import plotly.graph_objs as go\n",
    "#\n",
    "# trace = go.Table(\n",
    "#     header=dict(values=list(data.columns),\n",
    "#                fill = dict(color='#C2D4FF'),\n",
    "#                align = ['left', 'right', 'right', 'right']),\n",
    "#    cells=dict(values=[data['month'], data['2016'], data['2017'], data['2018']],\n",
    "#               fill = dict(color='#F5F8FF'),\n",
    "#               align = ['left'] + ['right']*3))\n",
    "# py.iplot([trace], filename = 'pandas_table')"
   ]
  },
  {
   "cell_type": "code",
   "execution_count": null,
   "id": "45e6af64",
   "metadata": {},
   "outputs": [],
   "source": []
  }
 ],
 "metadata": {
  "kernelspec": {
   "display_name": "Python 3",
   "language": "python",
   "name": "python3"
  },
  "language_info": {
   "codemirror_mode": {
    "name": "ipython",
    "version": 3
   },
   "file_extension": ".py",
   "mimetype": "text/x-python",
   "name": "python",
   "nbconvert_exporter": "python",
   "pygments_lexer": "ipython3",
   "version": "3.8.8"
  }
 },
 "nbformat": 4,
 "nbformat_minor": 5
}
