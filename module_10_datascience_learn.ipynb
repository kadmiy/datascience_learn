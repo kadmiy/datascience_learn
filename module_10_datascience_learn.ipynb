{
 "cells": [
  {
   "cell_type": "markdown",
   "id": "00c7f899",
   "metadata": {},
   "source": [
    "## Блок 02 - Объединение таблиц по одному измерению"
   ]
  },
  {
   "cell_type": "code",
   "execution_count": 15,
   "id": "30223482",
   "metadata": {},
   "outputs": [
    {
     "name": "stdout",
     "output_type": "stream",
     "text": [
      "['burgerclub', '10', '185']\n",
      "['city-magazine', '5', '81']\n",
      "['direct', '5', '88']\n",
      "['facebook', '5', '91']\n",
      "['food-delivery', '10', '173']\n",
      "['foody', '3', '66']\n",
      "['google', '77', '1319']\n",
      "['newsletter', '5', '98']\n",
      "['promo', '68', '1181']\n",
      "['vk', '2', '29']\n",
      "['yandex', '104', '1818']\n"
     ]
    }
   ],
   "source": [
    "# Создаём словарь из файла module_10_orders_by_siource.txt\n",
    "\n",
    "orders_dict = {}\n",
    "with open('module_10_orders_by_source.txt', 'r') as f:\n",
    "    for line in f:\n",
    "        line = line.strip().split('\\t')\n",
    "        print(line)\n",
    "        orders_dict[line[0]] = int(line[1])"
   ]
  },
  {
   "cell_type": "code",
   "execution_count": 14,
   "id": "10266e8e",
   "metadata": {},
   "outputs": [
    {
     "data": {
      "text/plain": [
       "{'burgerclub': 10,\n",
       " 'city-magazine': 5,\n",
       " 'direct': 5,\n",
       " 'facebook': 5,\n",
       " 'food-delivery': 10,\n",
       " 'foody': 3,\n",
       " 'google': 77,\n",
       " 'newsletter': 5,\n",
       " 'promo': 68,\n",
       " 'vk': 2,\n",
       " 'yandex': 104}"
      ]
     },
     "execution_count": 14,
     "metadata": {},
     "output_type": "execute_result"
    }
   ],
   "source": [
    "orders_dict"
   ]
  },
  {
   "cell_type": "code",
   "execution_count": 18,
   "id": "742449f1",
   "metadata": {},
   "outputs": [
    {
     "data": {
      "text/plain": [
       "68"
      ]
     },
     "execution_count": 18,
     "metadata": {},
     "output_type": "execute_result"
    }
   ],
   "source": [
    "orders_dict['promo']"
   ]
  },
  {
   "cell_type": "code",
   "execution_count": 19,
   "id": "0a5ca3ee",
   "metadata": {},
   "outputs": [],
   "source": [
    "# Функция по названию источника source ищет соответствующую строку в файле orders_by_source.txt.\n",
    "# Возвращает количество покупок, соответствующее источнику source. Если источник не найден, то возвращает 0\n",
    "# Пример\n",
    "# searchForLine('burgerclub')\n",
    "# 10\n",
    "# searchForLine('source_123')\n",
    "# 0\n",
    "\n",
    "def searchForLine(source, orders_dict):\n",
    "    if source in orders_dict:\n",
    "        return orders_dict[source]"
   ]
  },
  {
   "cell_type": "code",
   "execution_count": 40,
   "id": "6b326a9c",
   "metadata": {},
   "outputs": [
    {
     "name": "stdout",
     "output_type": "stream",
     "text": [
      "burgerclub 1197 10 0.008\n",
      "city-magazine 528 5 0.009\n",
      "facebook 3144 5 0.002\n",
      "food-delivery 1184 10 0.008\n",
      "foody 421 3 0.007\n",
      "google 10961 77 0.007\n",
      "newsletter 637 5 0.008\n",
      "promo 7405 68 0.009\n",
      "vk 256 2 0.008\n",
      "yandex 11757 104 0.009\n",
      "direct 2156 5 0.002\n",
      "Средняя конверсия по всем источникам = 0.007 0.077 11\n"
     ]
    }
   ],
   "source": [
    "with open('module_10_joined_by_source.txt', 'w') as w:\n",
    "    w.write('{}\\t{}\\t{}\\t{}\\n'.format('source', 'visits', 'orders', 'conversion_rate'))\n",
    "    # Добавил первую строчку как заголовок сразуже в файл module_10_joined_by_source.txt, а не в\n",
    "    # файл module_10_orders_by_source.txt\n",
    "    with open('module_10_visits_by_source.txt', 'r') as f:\n",
    "        i = 0\n",
    "        sum_conversion_rate = 0\n",
    "        # Для расчёта среднего значения конверсии ввёл счётчик источников i \n",
    "        # и сумму всех конверсий sum_conversion_rate\n",
    "        for line in f:\n",
    "            line = line.strip().split('\\t')\n",
    "            orders = searchForLine(line[0], orders_dict)\n",
    "            visits = int(line[1])\n",
    "            source = line[0]\n",
    "            conversion_rate = round(orders/visits, 3)\n",
    "            sum_conversion_rate += conversion_rate\n",
    "            i += 1\n",
    "            print(source, visits, orders, conversion_rate)\n",
    "            w.write('{}\\t{}\\t{}\\t{}\\n'.format(source, visits, orders, conversion_rate))\n",
    "        print('Средняя конверсия по всем источникам = ' + str(sum_conversion_rate/i), sum_conversion_rate, i)\n",
    "        # Вывод на экран значения средней конверсии по всем источникам"
   ]
  },
  {
   "cell_type": "code",
   "execution_count": 41,
   "id": "d1f1cac5",
   "metadata": {},
   "outputs": [
    {
     "name": "stdout",
     "output_type": "stream",
     "text": [
      "['source', 'visits', 'orders', 'conversion_rate']\n",
      "['burgerclub', '1197', '10', '0.008']\n",
      "['city-magazine', '528', '5', '0.009']\n",
      "['facebook', '3144', '5', '0.002']\n",
      "['food-delivery', '1184', '10', '0.008']\n",
      "['foody', '421', '3', '0.007']\n",
      "['google', '10961', '77', '0.007']\n",
      "['newsletter', '637', '5', '0.008']\n",
      "['promo', '7405', '68', '0.009']\n",
      "['vk', '256', '2', '0.008']\n",
      "['yandex', '11757', '104', '0.009']\n",
      "['direct', '2156', '5', '0.002']\n"
     ]
    }
   ],
   "source": [
    "# Читаем ранее созданый файл module_10_joined_by_source.txt\n",
    "with open('module_10_joined_by_source.txt', 'r') as f:\n",
    "    for line in f:\n",
    "        line = line.strip().split('\\t')\n",
    "        print(line)"
   ]
  },
  {
   "cell_type": "markdown",
   "id": "ec4fe2fd",
   "metadata": {},
   "source": [
    "## Блок 03 - Объединение таблиц по двум измерениям"
   ]
  },
  {
   "cell_type": "code",
   "execution_count": 43,
   "id": "49a4b357",
   "metadata": {},
   "outputs": [],
   "source": [
    "# Создайм новый словарь orders_dict с новым уровнем вложенности для канала medium\n",
    "orders_dict = {}\n",
    "with open('module_10_orders_by_source_and_medium.txt', 'r') as f:\n",
    "    for line in f:\n",
    "        line = line.strip().split('\\t')\n",
    "        source = line[0]\n",
    "        medium = line[1]\n",
    "        orders_count = int(line[2])\n",
    "        orders_dict.setdefault(source, {})\n",
    "        orders_dict[source].setdefault(medium, 0)\n",
    "        orders_dict[source][medium] = orders_count"
   ]
  },
  {
   "cell_type": "code",
   "execution_count": 44,
   "id": "8fc6d66a",
   "metadata": {},
   "outputs": [
    {
     "data": {
      "text/plain": [
       "{'burgerclub': {'cpa-partners': 10},\n",
       " 'city-magazine': {'cpc-partners': 5},\n",
       " 'direct': {'brand': 5},\n",
       " 'facebook': {'smm': 5},\n",
       " 'food-delivery': {'cpa-partners': 10},\n",
       " 'foody': {'cpc-partners': 3},\n",
       " 'google': {'brand': 6, 'sem': 56, 'seo': 15},\n",
       " 'newsletter': {'email': 5},\n",
       " 'promo': {'email': 68},\n",
       " 'vk': {'smm': 2},\n",
       " 'yandex': {'brand': 7, 'sem': 67, 'seo': 30}}"
      ]
     },
     "execution_count": 44,
     "metadata": {},
     "output_type": "execute_result"
    }
   ],
   "source": [
    "orders_dict"
   ]
  },
  {
   "cell_type": "code",
   "execution_count": 51,
   "id": "b7c8ea40",
   "metadata": {},
   "outputs": [],
   "source": [
    "# Модифицированная функция searchForLine для поиска по новому словарю orders_dict.\n",
    "# Возвращает результат в виде целого числа и 0 если по указанной комбинации source и medium нет записей.\n",
    "def searchForLine(source, medium, orders_dict):\n",
    "    if source in orders_dict:\n",
    "        if medium in orders_dict[source]:\n",
    "            return int(orders_dict[source][medium])\n",
    "    return 0        "
   ]
  },
  {
   "cell_type": "code",
   "execution_count": 52,
   "id": "9de6e83e",
   "metadata": {},
   "outputs": [
    {
     "data": {
      "text/plain": [
       "15"
      ]
     },
     "execution_count": 52,
     "metadata": {},
     "output_type": "execute_result"
    }
   ],
   "source": [
    "searchForLine('google','seo', orders_dict)"
   ]
  },
  {
   "cell_type": "code",
   "execution_count": 53,
   "id": "a4ebe717",
   "metadata": {},
   "outputs": [
    {
     "data": {
      "text/plain": [
       "0"
      ]
     },
     "execution_count": 53,
     "metadata": {},
     "output_type": "execute_result"
    }
   ],
   "source": [
    "searchForLine('google_123','seo', orders_dict)"
   ]
  },
  {
   "cell_type": "code",
   "execution_count": 54,
   "id": "4c672ecb",
   "metadata": {},
   "outputs": [
    {
     "data": {
      "text/plain": [
       "0"
      ]
     },
     "execution_count": 54,
     "metadata": {},
     "output_type": "execute_result"
    }
   ],
   "source": [
    "searchForLine('google','seo_123', orders_dict)"
   ]
  },
  {
   "cell_type": "code",
   "execution_count": 55,
   "id": "9895dd78",
   "metadata": {},
   "outputs": [
    {
     "data": {
      "text/plain": [
       "56"
      ]
     },
     "execution_count": 55,
     "metadata": {},
     "output_type": "execute_result"
    }
   ],
   "source": [
    "searchForLine('google','sem', orders_dict)"
   ]
  },
  {
   "cell_type": "markdown",
   "id": "2f34704f",
   "metadata": {},
   "source": [
    "## Тест на повторение пройденого материала"
   ]
  },
  {
   "cell_type": "markdown",
   "id": "ff502136",
   "metadata": {},
   "source": [
    "1. В переменную a записали результат вычисления:\n",
    "\n",
    "a = 4 / 2\n",
    "\n",
    "Какой тип у переменной a?\n",
    "> int\n",
    ">\n",
    "> float <---Ответ---> \n",
    ">\n",
    "> str"
   ]
  },
  {
   "cell_type": "code",
   "execution_count": 59,
   "id": "e7f201c3",
   "metadata": {},
   "outputs": [
    {
     "data": {
      "text/plain": [
       "float"
      ]
     },
     "execution_count": 59,
     "metadata": {},
     "output_type": "execute_result"
    }
   ],
   "source": [
    "# Проверка\n",
    "a = 4/2\n",
    "type(a)"
   ]
  },
  {
   "cell_type": "markdown",
   "id": "48f1f258",
   "metadata": {},
   "source": [
    "2. Необходимо вывести на экран результат извлечения квадратного корня из числа 224 в виде:\n",
    "\n",
    "Квадратный корень из 224 равен 14.9666\n",
    "\n",
    "Как записать формат вывода, чтобы оставить 4 знака после запятой?\n",
    "\n",
    ">{:.3%}\n",
    ">\n",
    "> {4f.:}\n",
    ">\n",
    "> {:.4f} <---Ответ--->"
   ]
  },
  {
   "cell_type": "code",
   "execution_count": 83,
   "id": "77a73c23",
   "metadata": {},
   "outputs": [
    {
     "name": "stdout",
     "output_type": "stream",
     "text": [
      "Квадратный корень из 224 равен 14.9666\n"
     ]
    }
   ],
   "source": [
    "# Проверка\n",
    "from math import sqrt as sqrt\n",
    "print('Квадратный корень из 224 равен {:.4f}'.format(sqrt(224)))"
   ]
  },
  {
   "cell_type": "markdown",
   "id": "6cb60c94",
   "metadata": {},
   "source": [
    "3. В листе months записаны названия месяцев\n",
    "\n",
    "months = ['январь', 'февраль', 'март', 'апрель', 'май', 'июнь', 'июль', 'август', 'сентябрь', 'октябрь', 'ноябрь', 'декабрь']\n",
    "\n",
    "Как получить из этого листа названия весенних месяцев?\n",
    "\n",
    ">months[2:5] <---Ответ--->\n",
    ">\n",
    ">months[3:5]\n",
    ">\n",
    ">months[2:]"
   ]
  },
  {
   "cell_type": "code",
   "execution_count": 84,
   "id": "231111e4",
   "metadata": {},
   "outputs": [
    {
     "data": {
      "text/plain": [
       "['март', 'апрель', 'май']"
      ]
     },
     "execution_count": 84,
     "metadata": {},
     "output_type": "execute_result"
    }
   ],
   "source": [
    "#Проверка\n",
    "months = ['январь', 'февраль', 'март', 'апрель', 'май', 'июнь', 'июль', 'август', 'сентябрь', 'октябрь', 'ноябрь', 'декабрь']\n",
    "months[2:5]"
   ]
  },
  {
   "cell_type": "markdown",
   "id": "0ad12d54",
   "metadata": {},
   "source": [
    "4. В названии рекламной кампании через знак подчеркивания '_' указан источник кампании (yandex), канал (cpc), название марки автомобиля (bmv), тип размещения (brand) и сезон (summer):\n",
    "\n",
    "campaign = 'yandex_cpc_bmv_brand_summer'\n",
    "\n",
    "Как выделить из переменной campaign название марки автомобиля?\n",
    "\n",
    ">campaign.split(' ')[3]\n",
    ">\n",
    ">campaign.split('_')[2] <---Ответ--->\n",
    ">\n",
    ">campaign.split('_')[2:4]"
   ]
  },
  {
   "cell_type": "code",
   "execution_count": 89,
   "id": "aeb5eada",
   "metadata": {},
   "outputs": [
    {
     "data": {
      "text/plain": [
       "'bmv'"
      ]
     },
     "execution_count": 89,
     "metadata": {},
     "output_type": "execute_result"
    }
   ],
   "source": [
    "# Проверка\n",
    "campaign = 'yandex_cpc_bmv_brand_summer'\n",
    "campaign.split('_')[2]"
   ]
  },
  {
   "cell_type": "markdown",
   "id": "0520f343",
   "metadata": {},
   "source": [
    "5. Дан словарь\n",
    "\n",
    "total_costs = { 'google': 1319, 'yandex': 1818, 'promo': 1181 }\n",
    "\n",
    "Необходимо вывести названия источников, отсортированных по алфавиту в обратном порядке\n",
    "\n",
    ">sorted( total_costs, reverse = True )\n",
    ">\n",
    ">sorted( total_costs.values(), reverse = True )\n",
    ">\n",
    ">sorted( total_costs.keys(), reverse = True ) <---Ответ--->"
   ]
  },
  {
   "cell_type": "code",
   "execution_count": 94,
   "id": "6756201e",
   "metadata": {},
   "outputs": [
    {
     "name": "stdout",
     "output_type": "stream",
     "text": [
      "['google', 'promo', 'yandex']\n",
      "['yandex', 'promo', 'google']\n"
     ]
    }
   ],
   "source": [
    "# Проверка\n",
    "total_costs = { 'google': 1319, 'yandex': 1818, 'promo': 1181 }\n",
    "print (sorted(total_costs.keys())) # Прямой порядок по алфавиту\n",
    "print (sorted(total_costs.keys(), reverse=True)) # Обратный порядок по алфавиту"
   ]
  },
  {
   "cell_type": "markdown",
   "id": "3a55ede9",
   "metadata": {},
   "source": [
    "6. Задана функция google_costs, возвращающая расходы по ключу 'google':\n",
    "\n",
    ">def google_costs(data):\n",
    ">\n",
    ">data.setdefault('google', 0)\n",
    ">\n",
    ">return data['google']\n",
    "\n",
    "\n",
    "Какое значение вернет код\n",
    "\n",
    "google_costs( {'vk': 100} )\n",
    "\n",
    ">100\n",
    ">\n",
    ">'vk'\n",
    ">\n",
    ">возникнет ошибка <---Но думал что будет ошибка--->\n",
    ">\n",
    ">0 <---Ответ--->"
   ]
  },
  {
   "cell_type": "code",
   "execution_count": 98,
   "id": "dbff32aa",
   "metadata": {},
   "outputs": [
    {
     "name": "stdout",
     "output_type": "stream",
     "text": [
      "{'vk': 100}\n",
      "{'vk': 100, 'google': 0}\n"
     ]
    },
    {
     "data": {
      "text/plain": [
       "0"
      ]
     },
     "execution_count": 98,
     "metadata": {},
     "output_type": "execute_result"
    }
   ],
   "source": [
    "# Проверка\n",
    "def google_costs(data):\n",
    "    print(data)\n",
    "    data.setdefault('google', 0)\n",
    "    print(data)\n",
    "    return data['google']\n",
    "\n",
    "google_costs({'vk': 100})"
   ]
  },
  {
   "cell_type": "markdown",
   "id": "8c1197db",
   "metadata": {},
   "source": [
    "7. Как нам перевести следующую дату в тип datetime: \n",
    "    \n",
    "date_string = '23.02.2017 15:20'\n",
    "\n",
    ">datetime.strptime( date_string, '%Y %H:%M' )\n",
    ">\n",
    ">datetime.strptime( date_string, '%d.%m.%Y %H:%M' ) <---Ответ--->\n",
    ">\n",
    ">datetime.datetime(2017, 02, 23, 15, 20)\n",
    ">\n",
    ">datetime.strptime( date_string, '%m.%d.%Y %H:%M' )"
   ]
  },
  {
   "cell_type": "code",
   "execution_count": 107,
   "id": "c670452e",
   "metadata": {},
   "outputs": [
    {
     "data": {
      "text/plain": [
       "datetime.datetime(2017, 2, 23, 15, 20)"
      ]
     },
     "execution_count": 107,
     "metadata": {},
     "output_type": "execute_result"
    }
   ],
   "source": [
    "# Проверка\n",
    "from datetime import datetime\n",
    "\n",
    "date_string = '23.02.2017 15:20'\n",
    "datetime.strptime(date_string, '%d.%m.%Y %H:%M')"
   ]
  },
  {
   "cell_type": "markdown",
   "id": "12887892",
   "metadata": {},
   "source": [
    "8. C помощью какой команды можно определить тип переменной?\n",
    "\n",
    ">type <---Ответ--->\n",
    ">\n",
    ">float\n",
    ">\n",
    ">split\n",
    ">\n",
    ">str"
   ]
  },
  {
   "cell_type": "code",
   "execution_count": 108,
   "id": "7d9aa4a3",
   "metadata": {},
   "outputs": [],
   "source": [
    "# В вопросе №1 использовал эту команду"
   ]
  },
  {
   "cell_type": "markdown",
   "id": "0a279d1e",
   "metadata": {},
   "source": [
    "9. В цикле переменная source проходит множество значений. Необходимо отфильтровать только те, которые соответствуют значениям \"google\" и \"yandex\". Как это сделать?\n",
    "\n",
    ">if source==\"yandex\" OR source==\"google\" <---Ответ--->\n",
    ">\n",
    ">if source==\"yandex\" AND source==\"google\"\n",
    ">\n",
    ">if source==\"yandex\" ALSO source==\"google\""
   ]
  },
  {
   "cell_type": "code",
   "execution_count": 109,
   "id": "7f554cea",
   "metadata": {},
   "outputs": [],
   "source": [
    "# Т.к. каждом шаге цикла переменная source может принимать только одно значение, то чтобы отфильтровать \n",
    "# yandex и google необходимо условие логического ИЛИ"
   ]
  },
  {
   "cell_type": "markdown",
   "id": "8d7d65f1",
   "metadata": {},
   "source": [
    "## Дополнительный блок - объединение таблиц по произвольным столбцам"
   ]
  },
  {
   "cell_type": "code",
   "execution_count": 110,
   "id": "e7afb965",
   "metadata": {},
   "outputs": [
    {
     "name": "stdout",
     "output_type": "stream",
     "text": [
      "10\n",
      "9\n",
      "8\n",
      "7\n",
      "6\n",
      "5\n",
      "4\n",
      "3\n",
      "2\n",
      "1\n"
     ]
    }
   ],
   "source": [
    "# Рекурсия\n",
    "i = 10\n",
    "while i >= 1:\n",
    "    print(i)\n",
    "    # уменьшаем значение i на 1\n",
    "    # такая запись равносильна i = i - 1\n",
    "    i -=1"
   ]
  },
  {
   "cell_type": "code",
   "execution_count": 111,
   "id": "be0c95d9",
   "metadata": {},
   "outputs": [],
   "source": [
    "#\n",
    "def decrease_and_print_i( i ):\n",
    "    if i > 1:\n",
    "        print(i)\n",
    "        return decrease_and_print_i(i - 1)\n",
    "    else:\n",
    "        return 1"
   ]
  },
  {
   "cell_type": "code",
   "execution_count": 112,
   "id": "5952369d",
   "metadata": {},
   "outputs": [
    {
     "name": "stdout",
     "output_type": "stream",
     "text": [
      "10\n",
      "9\n",
      "8\n",
      "7\n",
      "6\n",
      "5\n",
      "4\n",
      "3\n",
      "2\n"
     ]
    },
    {
     "data": {
      "text/plain": [
       "1"
      ]
     },
     "execution_count": 112,
     "metadata": {},
     "output_type": "execute_result"
    }
   ],
   "source": [
    "decrease_and_print_i(10)"
   ]
  },
  {
   "cell_type": "code",
   "execution_count": 157,
   "id": "cfadf5bd",
   "metadata": {},
   "outputs": [],
   "source": [
    "# Давайте сделаем пример, в котором использование рекурсии позволит нам перевести лист\n",
    "# line = ['2016-10-01', 'burgerclub', 'cpa-partners', 1]\n",
    "# в словарь\n",
    "# dict2fill = {'2016-10-01': {'burgerclub': {'cpa-partners': 1}}\n",
    "\n",
    "line = ['2016-10-01', 'burgerclub', 'cpa-partners', 1]\n",
    "\n",
    "def fillLevels(lineRemainder):\n",
    "\n",
    "# На вход функция принимает часть листа line.\n",
    "# Берет его первый элемент lineRemainder[0] и вызывает себя с остатком листа line, т. е. с элементами lineRemainder[1:].\n",
    "# Так продолжаем до тех пор, пока в lineRemainder не останется один элемент\n",
    "# Пример\n",
    "# fillLevels( ['2016-10-01', 'burgerclub', 'cpa-partners', 1] )\n",
    "# {'2016-10-01': {'burgerclub': {'cpa-partners': 1}}}\n",
    "\n",
    "# словарь, который будем пошагово заполнять\n",
    "    dict2fill = {}\n",
    "    if len(lineRemainder) > 1:\n",
    "        dict2fill[lineRemainder[0]] = fillLevels(lineRemainder[1:])\n",
    "    else:\n",
    "        return lineRemainder[0]\n",
    "    return dict2fill"
   ]
  },
  {
   "cell_type": "code",
   "execution_count": 158,
   "id": "157e707e",
   "metadata": {},
   "outputs": [
    {
     "data": {
      "text/plain": [
       "{'2016-10-01': {'burgerclub': {'cpa-partners': 1}}}"
      ]
     },
     "execution_count": 158,
     "metadata": {},
     "output_type": "execute_result"
    }
   ],
   "source": [
    "fillLevels(line)"
   ]
  },
  {
   "cell_type": "code",
   "execution_count": 148,
   "id": "1d82025d",
   "metadata": {},
   "outputs": [
    {
     "name": "stdout",
     "output_type": "stream",
     "text": [
      "[0, 1, 2, 3, 4, 5, 6, 7, 8, 9, 10, 11, 12, 13, 14, 15, 16, 17, 18, 19, 20, 21, 22, 23, 24, 25, 26, 27, 28, 29, 30, 31, 32, 33, 34, 35, 36, 37, 38, 39, 40, 41, 42, 43, 44, 45, 46, 47, 48, 49, 50, 51, 52, 53, 54, 55, 56, 57, 58, 59, 60, 61, 62, 63, 64, 65, 66, 67, 68, 69, 70, 71, 72, 73, 74, 75, 76, 77, 78, 79, 80, 81, 82, 83, 84, 85, 86, 87, 88, 89, 90, 91, 92, 93, 94, 95, 96, 97, 98, 99]\n"
     ]
    }
   ],
   "source": [
    "# Получаем лист range(100)\n",
    "range_list = []\n",
    "for x in range(100):\n",
    "    range_list += [x]\n",
    "print (range_list)"
   ]
  },
  {
   "cell_type": "code",
   "execution_count": 160,
   "id": "1e639737",
   "metadata": {},
   "outputs": [
    {
     "data": {
      "text/plain": [
       "{0: {1: {2: {3: {4: {5: {6: {7: {8: {9: {10: {11: {12: {13: {14: {15: {16: {17: {18: {19: {20: {21: {22: {23: {24: {25: {26: {27: {28: {29: {30: {31: {32: {33: {34: {35: {36: {37: {38: {39: {40: {41: {42: {43: {44: {45: {46: {47: {48: {49: {50: {51: {52: {53: {54: {55: {56: {57: {58: {59: {60: {61: {62: {63: {64: {65: {66: {67: {68: {69: {70: {71: {72: {73: {74: {75: {76: {77: {78: {79: {80: {81: {82: {83: {84: {85: {86: {87: {88: {89: {90: {91: {92: {93: {94: {95: {96: {97: {98: 99}}}}}}}}}}}}}}}}}}}}}}}}}}}}}}}}}}}}}}}}}}}}}}}}}}}}}}}}}}}}}}}}}}}}}}}}}}}}}}}}}}}}}}}}}}}}}}}}}}}"
      ]
     },
     "execution_count": 160,
     "metadata": {},
     "output_type": "execute_result"
    }
   ],
   "source": [
    "# Получаем словарь нашего range_list\n",
    "# Самый глубоко вложенный словарь будет иметь ключ 98\n",
    "fillLevels(range_list)"
   ]
  },
  {
   "cell_type": "markdown",
   "id": "3c0decec",
   "metadata": {},
   "source": [
    "### Построение алгоритма по нескольким стообцам"
   ]
  },
  {
   "cell_type": "code",
   "execution_count": 173,
   "id": "0bad69c2",
   "metadata": {},
   "outputs": [],
   "source": [
    "data = [\n",
    "    ['2016-10-01', 'google', 'sem', 5],\n",
    "    ['2016-10-01', 'google', 'seo', 1],\n",
    "    ['2016-10-01', 'newsletter', 'email', 1]\n",
    "]"
   ]
  },
  {
   "cell_type": "code",
   "execution_count": 153,
   "id": "58183901",
   "metadata": {},
   "outputs": [],
   "source": [
    "def checkLevels( levelDict, level, line ):\n",
    "    if line[ level ] in levelDict:\n",
    "        checkLevels( levelDict[ line[ level ] ], level + 1, line )\n",
    "        return levelDict\n",
    "    else:\n",
    "        levelDict[ line[ level ] ] = fillLevels( line[ level + 1: ] )\n",
    "        return levelDict"
   ]
  },
  {
   "cell_type": "code",
   "execution_count": 176,
   "id": "ff296ad4",
   "metadata": {},
   "outputs": [
    {
     "name": "stdout",
     "output_type": "stream",
     "text": [
      "{'2016-10-01': {'google': {'sem': 5, 'seo': 1}, 'newsletter': {'email': 1}}}\n"
     ]
    }
   ],
   "source": [
    "data_dict = {}\n",
    "for line in data:\n",
    "    data_dict = checkLevels(data_dict, 0 , line)\n",
    "print(data_dict)"
   ]
  },
  {
   "cell_type": "code",
   "execution_count": 181,
   "id": "57171f7f",
   "metadata": {},
   "outputs": [],
   "source": [
    "test_data = [\n",
    "    ['2018-01-01', 'google', 'cpc', 'ДФО', 'кампания_1', 'Хабаровск', 114],\n",
    "    ['2018-01-01', 'google', 'cpc', 'ДФО', 'кампания_2', 'Владивосток', 536],\n",
    "    ['2018-01-01', 'google', 'cpc', 'ДФО', 'кампания_1', 'Магадан', 436]\n",
    "]"
   ]
  },
  {
   "cell_type": "code",
   "execution_count": 182,
   "id": "3742d633",
   "metadata": {},
   "outputs": [
    {
     "name": "stdout",
     "output_type": "stream",
     "text": [
      "{'2018-01-01': {'google': {'cpc': {'ДФО': {'кампания_1': {'Хабаровск': 114, 'Магадан': 436}, 'кампания_2': {'Владивосток': 536}}}}}}\n"
     ]
    }
   ],
   "source": [
    "test_data_dict = {}\n",
    "for line in test_data:\n",
    "    test_data_dict = checkLevels(test_data_dict, 0, line)\n",
    "print(test_data_dict)"
   ]
  },
  {
   "cell_type": "code",
   "execution_count": 183,
   "id": "25e33491",
   "metadata": {},
   "outputs": [
    {
     "data": {
      "text/plain": [
       "2"
      ]
     },
     "execution_count": 183,
     "metadata": {},
     "output_type": "execute_result"
    }
   ],
   "source": [
    "# Количество различных кампаний = количеству ключей в словаре\n",
    "# data_dict['2018-01-01']['google']['cpc']['ДФО']\n",
    "len(test_data_dict['2018-01-01']['google']['cpc']['ДФО'].keys())"
   ]
  },
  {
   "cell_type": "code",
   "execution_count": 200,
   "id": "2c1d9057",
   "metadata": {},
   "outputs": [],
   "source": [
    "# Функция поиска количества покупок по значениям: дата покупки, источник, канал и т.д.\n",
    "\n",
    "def findLineValue(finalDict, line):\n",
    "    if len(line) > 1:\n",
    "        if line[0] in finalDict:\n",
    "            return findLineValue(finalDict[line[0]], line[1:])\n",
    "        else:\n",
    "            return 0\n",
    "    else:\n",
    "        if line[0] in finalDict:\n",
    "            return finalDict[line[0]]\n",
    "        else:\n",
    "            return 0"
   ]
  },
  {
   "cell_type": "code",
   "execution_count": 198,
   "id": "c122ebb0",
   "metadata": {},
   "outputs": [
    {
     "data": {
      "text/plain": [
       "5"
      ]
     },
     "execution_count": 198,
     "metadata": {},
     "output_type": "execute_result"
    }
   ],
   "source": [
    "# Проверка работоспособности\n",
    "findLineValue(data_dict, ['2016-10-01', 'google', 'sem'])"
   ]
  },
  {
   "cell_type": "code",
   "execution_count": 185,
   "id": "c77882d9",
   "metadata": {},
   "outputs": [
    {
     "data": {
      "text/plain": [
       "0"
      ]
     },
     "execution_count": 185,
     "metadata": {},
     "output_type": "execute_result"
    }
   ],
   "source": [
    "findLineValue(data_dict, ['2018-01-01', 'google', 'sem'])"
   ]
  },
  {
   "cell_type": "code",
   "execution_count": 197,
   "id": "79008fc9",
   "metadata": {},
   "outputs": [
    {
     "name": "stdout",
     "output_type": "stream",
     "text": [
      "0.02\n"
     ]
    }
   ],
   "source": [
    "# Известно, что 1 января по кампании google / cpc кампания_2 во Владивостоке было 26 800 переходов.\n",
    "# Посчитайте конверсию из переходов в покупки, используя функцию поиска findLineValue.\n",
    "# Каково значение конверсии переходов в покупки для этого случая?\n",
    "# Приведите точное значение конверсии (пример формата ответа 0.04)\n",
    "\n",
    "visits = 26800\n",
    "orders = findLineValue(test_data_dict, ['2018-01-01', 'google', 'cpc', 'ДФО', 'кампания_2', 'Владивосток'])\n",
    "conversion_rate = orders/visits\n",
    "print(round(conversion_rate, 2))"
   ]
  }
 ],
 "metadata": {
  "kernelspec": {
   "display_name": "Python 3",
   "language": "python",
   "name": "python3"
  },
  "language_info": {
   "codemirror_mode": {
    "name": "ipython",
    "version": 3
   },
   "file_extension": ".py",
   "mimetype": "text/x-python",
   "name": "python",
   "nbconvert_exporter": "python",
   "pygments_lexer": "ipython3",
   "version": "3.8.8"
  }
 },
 "nbformat": 4,
 "nbformat_minor": 5
}
